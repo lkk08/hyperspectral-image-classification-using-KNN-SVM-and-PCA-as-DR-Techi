{
  "nbformat": 4,
  "nbformat_minor": 0,
  "metadata": {
    "colab": {
      "name": "Salinas (PCA KNN SVM).ipynb",
      "provenance": [],
      "collapsed_sections": []
    },
    "kernelspec": {
      "name": "python3",
      "display_name": "Python 3"
    },
    "accelerator": "GPU"
  },
  "cells": [
    {
      "cell_type": "markdown",
      "metadata": {
        "id": "V49GzoOxF20-"
      },
      "source": [
        "# **Dataset Reading**"
      ]
    },
    {
      "cell_type": "code",
      "metadata": {
        "id": "RUpU27zwJam0",
        "outputId": "da200154-74a6-4564-c0e9-5e22660dbd3b",
        "colab": {
          "base_uri": "https://localhost:8080/",
          "height": 125
        }
      },
      "source": [
        "from google.colab import drive\n",
        "drive.mount('/content/drive')"
      ],
      "execution_count": null,
      "outputs": [
        {
          "output_type": "stream",
          "text": [
            "Go to this URL in a browser: https://accounts.google.com/o/oauth2/auth?client_id=947318989803-6bn6qk8qdgf4n4g3pfee6491hc0brc4i.apps.googleusercontent.com&redirect_uri=urn%3aietf%3awg%3aoauth%3a2.0%3aoob&response_type=code&scope=email%20https%3a%2f%2fwww.googleapis.com%2fauth%2fdocs.test%20https%3a%2f%2fwww.googleapis.com%2fauth%2fdrive%20https%3a%2f%2fwww.googleapis.com%2fauth%2fdrive.photos.readonly%20https%3a%2f%2fwww.googleapis.com%2fauth%2fpeopleapi.readonly\n",
            "\n",
            "Enter your authorization code:\n",
            "··········\n",
            "Mounted at /content/drive\n"
          ],
          "name": "stdout"
        }
      ]
    },
    {
      "cell_type": "code",
      "metadata": {
        "id": "Anb_SOhVJh5Q"
      },
      "source": [
        "import pandas as pd \n",
        "import numpy as np\n",
        "import matplotlib.pyplot as plt\n",
        "from sklearn import preprocessing\n",
        "from sklearn.preprocessing import MinMaxScaler\n",
        "from sklearn import decomposition\n",
        "from sklearn import datasets\n",
        "from sklearn.model_selection import train_test_split\n",
        "from sklearn.neighbors import KNeighborsClassifier\n",
        "from sklearn import metrics\n",
        "import time\n",
        "from sklearn.decomposition import PCA\n",
        "from sklearn.metrics import cohen_kappa_score"
      ],
      "execution_count": null,
      "outputs": []
    },
    {
      "cell_type": "code",
      "metadata": {
        "id": "ONsMJh-5Jjk7",
        "outputId": "6579661e-1594-4f4c-c125-9dfe574686ee",
        "colab": {
          "base_uri": "https://localhost:8080/",
          "height": 244
        }
      },
      "source": [
        "data = pd.read_csv('/content/drive/My Drive/Project HYPERSPECTRAL/Datasets/Complete_Data_.csv')\n",
        "data.head()"
      ],
      "execution_count": null,
      "outputs": [
        {
          "output_type": "execute_result",
          "data": {
            "text/html": [
              "<div>\n",
              "<style scoped>\n",
              "    .dataframe tbody tr th:only-of-type {\n",
              "        vertical-align: middle;\n",
              "    }\n",
              "\n",
              "    .dataframe tbody tr th {\n",
              "        vertical-align: top;\n",
              "    }\n",
              "\n",
              "    .dataframe thead th {\n",
              "        text-align: right;\n",
              "    }\n",
              "</style>\n",
              "<table border=\"1\" class=\"dataframe\">\n",
              "  <thead>\n",
              "    <tr style=\"text-align: right;\">\n",
              "      <th></th>\n",
              "      <th>px1</th>\n",
              "      <th>px2</th>\n",
              "      <th>px3</th>\n",
              "      <th>px4</th>\n",
              "      <th>px5</th>\n",
              "      <th>px6</th>\n",
              "      <th>px7</th>\n",
              "      <th>px8</th>\n",
              "      <th>px9</th>\n",
              "      <th>px10</th>\n",
              "      <th>px11</th>\n",
              "      <th>px12</th>\n",
              "      <th>px13</th>\n",
              "      <th>px14</th>\n",
              "      <th>px15</th>\n",
              "      <th>px16</th>\n",
              "      <th>px17</th>\n",
              "      <th>px18</th>\n",
              "      <th>px19</th>\n",
              "      <th>px20</th>\n",
              "      <th>px21</th>\n",
              "      <th>px22</th>\n",
              "      <th>px23</th>\n",
              "      <th>px24</th>\n",
              "      <th>px25</th>\n",
              "      <th>px26</th>\n",
              "      <th>px27</th>\n",
              "      <th>px28</th>\n",
              "      <th>px29</th>\n",
              "      <th>px30</th>\n",
              "      <th>px31</th>\n",
              "      <th>px32</th>\n",
              "      <th>px33</th>\n",
              "      <th>px34</th>\n",
              "      <th>px35</th>\n",
              "      <th>px36</th>\n",
              "      <th>px37</th>\n",
              "      <th>px38</th>\n",
              "      <th>px39</th>\n",
              "      <th>px40</th>\n",
              "      <th>...</th>\n",
              "      <th>px162</th>\n",
              "      <th>px163</th>\n",
              "      <th>px164</th>\n",
              "      <th>px165</th>\n",
              "      <th>px166</th>\n",
              "      <th>px167</th>\n",
              "      <th>px168</th>\n",
              "      <th>px169</th>\n",
              "      <th>px170</th>\n",
              "      <th>px171</th>\n",
              "      <th>px172</th>\n",
              "      <th>px173</th>\n",
              "      <th>px174</th>\n",
              "      <th>px175</th>\n",
              "      <th>px176</th>\n",
              "      <th>px177</th>\n",
              "      <th>px178</th>\n",
              "      <th>px179</th>\n",
              "      <th>px180</th>\n",
              "      <th>px181</th>\n",
              "      <th>px182</th>\n",
              "      <th>px183</th>\n",
              "      <th>px184</th>\n",
              "      <th>px185</th>\n",
              "      <th>px186</th>\n",
              "      <th>px187</th>\n",
              "      <th>px188</th>\n",
              "      <th>px189</th>\n",
              "      <th>px190</th>\n",
              "      <th>px191</th>\n",
              "      <th>px192</th>\n",
              "      <th>px193</th>\n",
              "      <th>px194</th>\n",
              "      <th>px195</th>\n",
              "      <th>px196</th>\n",
              "      <th>px197</th>\n",
              "      <th>px198</th>\n",
              "      <th>px199</th>\n",
              "      <th>px200</th>\n",
              "      <th>target</th>\n",
              "    </tr>\n",
              "  </thead>\n",
              "  <tbody>\n",
              "    <tr>\n",
              "      <th>0</th>\n",
              "      <td>3172</td>\n",
              "      <td>4142</td>\n",
              "      <td>4506</td>\n",
              "      <td>4279</td>\n",
              "      <td>4782</td>\n",
              "      <td>5048</td>\n",
              "      <td>5213</td>\n",
              "      <td>5106</td>\n",
              "      <td>5053</td>\n",
              "      <td>4750</td>\n",
              "      <td>4816</td>\n",
              "      <td>4769</td>\n",
              "      <td>4610</td>\n",
              "      <td>4805</td>\n",
              "      <td>4828</td>\n",
              "      <td>4861</td>\n",
              "      <td>4767</td>\n",
              "      <td>4624</td>\n",
              "      <td>4549</td>\n",
              "      <td>4463</td>\n",
              "      <td>4462</td>\n",
              "      <td>4446</td>\n",
              "      <td>4445</td>\n",
              "      <td>4336</td>\n",
              "      <td>4381</td>\n",
              "      <td>4319</td>\n",
              "      <td>4207</td>\n",
              "      <td>4305</td>\n",
              "      <td>4311</td>\n",
              "      <td>3991</td>\n",
              "      <td>4168</td>\n",
              "      <td>3942</td>\n",
              "      <td>4061</td>\n",
              "      <td>4362</td>\n",
              "      <td>4318</td>\n",
              "      <td>4252</td>\n",
              "      <td>4869</td>\n",
              "      <td>5284</td>\n",
              "      <td>5055</td>\n",
              "      <td>3591</td>\n",
              "      <td>...</td>\n",
              "      <td>1396</td>\n",
              "      <td>1381</td>\n",
              "      <td>1396</td>\n",
              "      <td>1381</td>\n",
              "      <td>1353</td>\n",
              "      <td>1346</td>\n",
              "      <td>1341</td>\n",
              "      <td>1332</td>\n",
              "      <td>1324</td>\n",
              "      <td>1310</td>\n",
              "      <td>1318</td>\n",
              "      <td>1330</td>\n",
              "      <td>1310</td>\n",
              "      <td>1292</td>\n",
              "      <td>1280</td>\n",
              "      <td>1275</td>\n",
              "      <td>1266</td>\n",
              "      <td>1264</td>\n",
              "      <td>1233</td>\n",
              "      <td>1241</td>\n",
              "      <td>1232</td>\n",
              "      <td>1215</td>\n",
              "      <td>1215</td>\n",
              "      <td>1187</td>\n",
              "      <td>1168</td>\n",
              "      <td>1171</td>\n",
              "      <td>1150</td>\n",
              "      <td>1134</td>\n",
              "      <td>1123</td>\n",
              "      <td>1135</td>\n",
              "      <td>1094</td>\n",
              "      <td>1090</td>\n",
              "      <td>1112</td>\n",
              "      <td>1090</td>\n",
              "      <td>1062</td>\n",
              "      <td>1069</td>\n",
              "      <td>1057</td>\n",
              "      <td>1020</td>\n",
              "      <td>1020</td>\n",
              "      <td>3</td>\n",
              "    </tr>\n",
              "    <tr>\n",
              "      <th>1</th>\n",
              "      <td>2580</td>\n",
              "      <td>4266</td>\n",
              "      <td>4502</td>\n",
              "      <td>4426</td>\n",
              "      <td>4853</td>\n",
              "      <td>5249</td>\n",
              "      <td>5352</td>\n",
              "      <td>5353</td>\n",
              "      <td>5347</td>\n",
              "      <td>5065</td>\n",
              "      <td>5141</td>\n",
              "      <td>5100</td>\n",
              "      <td>4994</td>\n",
              "      <td>5172</td>\n",
              "      <td>5290</td>\n",
              "      <td>5289</td>\n",
              "      <td>5217</td>\n",
              "      <td>5053</td>\n",
              "      <td>5033</td>\n",
              "      <td>4939</td>\n",
              "      <td>4931</td>\n",
              "      <td>4941</td>\n",
              "      <td>4902</td>\n",
              "      <td>4824</td>\n",
              "      <td>4859</td>\n",
              "      <td>4805</td>\n",
              "      <td>4698</td>\n",
              "      <td>4794</td>\n",
              "      <td>4806</td>\n",
              "      <td>4452</td>\n",
              "      <td>4628</td>\n",
              "      <td>4433</td>\n",
              "      <td>4643</td>\n",
              "      <td>4967</td>\n",
              "      <td>4853</td>\n",
              "      <td>4760</td>\n",
              "      <td>5449</td>\n",
              "      <td>5768</td>\n",
              "      <td>5684</td>\n",
              "      <td>3987</td>\n",
              "      <td>...</td>\n",
              "      <td>1421</td>\n",
              "      <td>1415</td>\n",
              "      <td>1428</td>\n",
              "      <td>1415</td>\n",
              "      <td>1379</td>\n",
              "      <td>1370</td>\n",
              "      <td>1360</td>\n",
              "      <td>1353</td>\n",
              "      <td>1352</td>\n",
              "      <td>1336</td>\n",
              "      <td>1346</td>\n",
              "      <td>1351</td>\n",
              "      <td>1330</td>\n",
              "      <td>1315</td>\n",
              "      <td>1305</td>\n",
              "      <td>1292</td>\n",
              "      <td>1282</td>\n",
              "      <td>1286</td>\n",
              "      <td>1259</td>\n",
              "      <td>1259</td>\n",
              "      <td>1250</td>\n",
              "      <td>1229</td>\n",
              "      <td>1232</td>\n",
              "      <td>1195</td>\n",
              "      <td>1177</td>\n",
              "      <td>1184</td>\n",
              "      <td>1153</td>\n",
              "      <td>1137</td>\n",
              "      <td>1138</td>\n",
              "      <td>1137</td>\n",
              "      <td>1108</td>\n",
              "      <td>1104</td>\n",
              "      <td>1117</td>\n",
              "      <td>1091</td>\n",
              "      <td>1079</td>\n",
              "      <td>1085</td>\n",
              "      <td>1064</td>\n",
              "      <td>1029</td>\n",
              "      <td>1020</td>\n",
              "      <td>3</td>\n",
              "    </tr>\n",
              "    <tr>\n",
              "      <th>2</th>\n",
              "      <td>3687</td>\n",
              "      <td>4266</td>\n",
              "      <td>4421</td>\n",
              "      <td>4498</td>\n",
              "      <td>5019</td>\n",
              "      <td>5293</td>\n",
              "      <td>5438</td>\n",
              "      <td>5427</td>\n",
              "      <td>5383</td>\n",
              "      <td>5132</td>\n",
              "      <td>5227</td>\n",
              "      <td>5172</td>\n",
              "      <td>5097</td>\n",
              "      <td>5313</td>\n",
              "      <td>5411</td>\n",
              "      <td>5412</td>\n",
              "      <td>5341</td>\n",
              "      <td>5191</td>\n",
              "      <td>5140</td>\n",
              "      <td>5069</td>\n",
              "      <td>5110</td>\n",
              "      <td>5119</td>\n",
              "      <td>5046</td>\n",
              "      <td>4981</td>\n",
              "      <td>5023</td>\n",
              "      <td>4987</td>\n",
              "      <td>4862</td>\n",
              "      <td>4965</td>\n",
              "      <td>4992</td>\n",
              "      <td>4595</td>\n",
              "      <td>4756</td>\n",
              "      <td>4529</td>\n",
              "      <td>4801</td>\n",
              "      <td>5077</td>\n",
              "      <td>4983</td>\n",
              "      <td>4868</td>\n",
              "      <td>5515</td>\n",
              "      <td>5972</td>\n",
              "      <td>5913</td>\n",
              "      <td>4027</td>\n",
              "      <td>...</td>\n",
              "      <td>1446</td>\n",
              "      <td>1440</td>\n",
              "      <td>1443</td>\n",
              "      <td>1425</td>\n",
              "      <td>1390</td>\n",
              "      <td>1379</td>\n",
              "      <td>1376</td>\n",
              "      <td>1363</td>\n",
              "      <td>1355</td>\n",
              "      <td>1347</td>\n",
              "      <td>1361</td>\n",
              "      <td>1356</td>\n",
              "      <td>1341</td>\n",
              "      <td>1330</td>\n",
              "      <td>1321</td>\n",
              "      <td>1304</td>\n",
              "      <td>1290</td>\n",
              "      <td>1289</td>\n",
              "      <td>1263</td>\n",
              "      <td>1269</td>\n",
              "      <td>1261</td>\n",
              "      <td>1245</td>\n",
              "      <td>1241</td>\n",
              "      <td>1214</td>\n",
              "      <td>1185</td>\n",
              "      <td>1188</td>\n",
              "      <td>1156</td>\n",
              "      <td>1147</td>\n",
              "      <td>1149</td>\n",
              "      <td>1144</td>\n",
              "      <td>1111</td>\n",
              "      <td>1114</td>\n",
              "      <td>1114</td>\n",
              "      <td>1100</td>\n",
              "      <td>1065</td>\n",
              "      <td>1092</td>\n",
              "      <td>1061</td>\n",
              "      <td>1030</td>\n",
              "      <td>1016</td>\n",
              "      <td>3</td>\n",
              "    </tr>\n",
              "    <tr>\n",
              "      <th>3</th>\n",
              "      <td>2749</td>\n",
              "      <td>4258</td>\n",
              "      <td>4603</td>\n",
              "      <td>4493</td>\n",
              "      <td>4958</td>\n",
              "      <td>5234</td>\n",
              "      <td>5417</td>\n",
              "      <td>5355</td>\n",
              "      <td>5349</td>\n",
              "      <td>5096</td>\n",
              "      <td>5147</td>\n",
              "      <td>5078</td>\n",
              "      <td>5040</td>\n",
              "      <td>5237</td>\n",
              "      <td>5321</td>\n",
              "      <td>5344</td>\n",
              "      <td>5255</td>\n",
              "      <td>5121</td>\n",
              "      <td>5035</td>\n",
              "      <td>4956</td>\n",
              "      <td>4994</td>\n",
              "      <td>4980</td>\n",
              "      <td>4905</td>\n",
              "      <td>4857</td>\n",
              "      <td>4900</td>\n",
              "      <td>4831</td>\n",
              "      <td>4720</td>\n",
              "      <td>4848</td>\n",
              "      <td>4847</td>\n",
              "      <td>4484</td>\n",
              "      <td>4613</td>\n",
              "      <td>4402</td>\n",
              "      <td>4674</td>\n",
              "      <td>4966</td>\n",
              "      <td>4848</td>\n",
              "      <td>4776</td>\n",
              "      <td>5473</td>\n",
              "      <td>5894</td>\n",
              "      <td>5789</td>\n",
              "      <td>4086</td>\n",
              "      <td>...</td>\n",
              "      <td>1432</td>\n",
              "      <td>1427</td>\n",
              "      <td>1426</td>\n",
              "      <td>1416</td>\n",
              "      <td>1386</td>\n",
              "      <td>1374</td>\n",
              "      <td>1375</td>\n",
              "      <td>1359</td>\n",
              "      <td>1343</td>\n",
              "      <td>1343</td>\n",
              "      <td>1354</td>\n",
              "      <td>1351</td>\n",
              "      <td>1333</td>\n",
              "      <td>1329</td>\n",
              "      <td>1313</td>\n",
              "      <td>1296</td>\n",
              "      <td>1280</td>\n",
              "      <td>1281</td>\n",
              "      <td>1251</td>\n",
              "      <td>1255</td>\n",
              "      <td>1253</td>\n",
              "      <td>1238</td>\n",
              "      <td>1223</td>\n",
              "      <td>1207</td>\n",
              "      <td>1188</td>\n",
              "      <td>1188</td>\n",
              "      <td>1154</td>\n",
              "      <td>1143</td>\n",
              "      <td>1144</td>\n",
              "      <td>1146</td>\n",
              "      <td>1122</td>\n",
              "      <td>1108</td>\n",
              "      <td>1109</td>\n",
              "      <td>1109</td>\n",
              "      <td>1071</td>\n",
              "      <td>1088</td>\n",
              "      <td>1060</td>\n",
              "      <td>1030</td>\n",
              "      <td>1006</td>\n",
              "      <td>3</td>\n",
              "    </tr>\n",
              "    <tr>\n",
              "      <th>4</th>\n",
              "      <td>2746</td>\n",
              "      <td>4018</td>\n",
              "      <td>4675</td>\n",
              "      <td>4417</td>\n",
              "      <td>4886</td>\n",
              "      <td>5117</td>\n",
              "      <td>5215</td>\n",
              "      <td>5096</td>\n",
              "      <td>5098</td>\n",
              "      <td>4834</td>\n",
              "      <td>4853</td>\n",
              "      <td>4857</td>\n",
              "      <td>4734</td>\n",
              "      <td>4879</td>\n",
              "      <td>4976</td>\n",
              "      <td>4958</td>\n",
              "      <td>4885</td>\n",
              "      <td>4754</td>\n",
              "      <td>4647</td>\n",
              "      <td>4532</td>\n",
              "      <td>4586</td>\n",
              "      <td>4591</td>\n",
              "      <td>4492</td>\n",
              "      <td>4453</td>\n",
              "      <td>4497</td>\n",
              "      <td>4398</td>\n",
              "      <td>4297</td>\n",
              "      <td>4408</td>\n",
              "      <td>4401</td>\n",
              "      <td>4102</td>\n",
              "      <td>4227</td>\n",
              "      <td>4075</td>\n",
              "      <td>4264</td>\n",
              "      <td>4529</td>\n",
              "      <td>4490</td>\n",
              "      <td>4438</td>\n",
              "      <td>5001</td>\n",
              "      <td>5378</td>\n",
              "      <td>5321</td>\n",
              "      <td>3779</td>\n",
              "      <td>...</td>\n",
              "      <td>1401</td>\n",
              "      <td>1397</td>\n",
              "      <td>1395</td>\n",
              "      <td>1390</td>\n",
              "      <td>1368</td>\n",
              "      <td>1349</td>\n",
              "      <td>1354</td>\n",
              "      <td>1340</td>\n",
              "      <td>1330</td>\n",
              "      <td>1324</td>\n",
              "      <td>1336</td>\n",
              "      <td>1332</td>\n",
              "      <td>1320</td>\n",
              "      <td>1307</td>\n",
              "      <td>1287</td>\n",
              "      <td>1283</td>\n",
              "      <td>1267</td>\n",
              "      <td>1265</td>\n",
              "      <td>1239</td>\n",
              "      <td>1240</td>\n",
              "      <td>1239</td>\n",
              "      <td>1229</td>\n",
              "      <td>1212</td>\n",
              "      <td>1202</td>\n",
              "      <td>1178</td>\n",
              "      <td>1178</td>\n",
              "      <td>1143</td>\n",
              "      <td>1135</td>\n",
              "      <td>1138</td>\n",
              "      <td>1135</td>\n",
              "      <td>1110</td>\n",
              "      <td>1107</td>\n",
              "      <td>1112</td>\n",
              "      <td>1094</td>\n",
              "      <td>1072</td>\n",
              "      <td>1087</td>\n",
              "      <td>1052</td>\n",
              "      <td>1034</td>\n",
              "      <td>1019</td>\n",
              "      <td>3</td>\n",
              "    </tr>\n",
              "  </tbody>\n",
              "</table>\n",
              "<p>5 rows × 201 columns</p>\n",
              "</div>"
            ],
            "text/plain": [
              "    px1   px2   px3   px4   px5  ...  px197  px198  px199  px200  target\n",
              "0  3172  4142  4506  4279  4782  ...   1069   1057   1020   1020       3\n",
              "1  2580  4266  4502  4426  4853  ...   1085   1064   1029   1020       3\n",
              "2  3687  4266  4421  4498  5019  ...   1092   1061   1030   1016       3\n",
              "3  2749  4258  4603  4493  4958  ...   1088   1060   1030   1006       3\n",
              "4  2746  4018  4675  4417  4886  ...   1087   1052   1034   1019       3\n",
              "\n",
              "[5 rows x 201 columns]"
            ]
          },
          "metadata": {
            "tags": []
          },
          "execution_count": 3
        }
      ]
    },
    {
      "cell_type": "code",
      "metadata": {
        "id": "UIvDiEcNJlhx",
        "outputId": "72b623bd-d7c5-4545-ebdd-54d4def77fc1",
        "colab": {
          "base_uri": "https://localhost:8080/",
          "height": 52
        }
      },
      "source": [
        "list=data.loc[:,['target']]\n",
        "list1=list.values\n",
        "target=data['target']\n",
        "target.head()\n",
        "target=target.to_numpy()\n",
        "print(target.shape)\n",
        "print(target)"
      ],
      "execution_count": null,
      "outputs": [
        {
          "output_type": "stream",
          "text": [
            "(21025,)\n",
            "[3 3 3 ... 0 0 0]\n"
          ],
          "name": "stdout"
        }
      ]
    },
    {
      "cell_type": "code",
      "metadata": {
        "id": "LA65o7jdJrzT"
      },
      "source": [
        "data=data.drop('target',axis=1)\n",
        "data.head()\n",
        "data=data.to_numpy()"
      ],
      "execution_count": null,
      "outputs": []
    },
    {
      "cell_type": "code",
      "metadata": {
        "id": "mLB3qhotJtgP"
      },
      "source": [
        "std_data = MinMaxScaler().fit_transform(data)\n",
        "std_data.shape\n",
        "acc=np.zeros((15,20))"
      ],
      "execution_count": null,
      "outputs": []
    },
    {
      "cell_type": "code",
      "metadata": {
        "id": "kzXUBG0HL7i1",
        "outputId": "514f3749-4d38-46eb-a71c-72279a4db259",
        "colab": {
          "base_uri": "https://localhost:8080/",
          "height": 298
        }
      },
      "source": [
        "print(acc)\n",
        "print(acc.shape)"
      ],
      "execution_count": null,
      "outputs": [
        {
          "output_type": "stream",
          "text": [
            "[[0. 0. 0. 0. 0. 0. 0. 0. 0. 0. 0. 0. 0. 0. 0. 0. 0. 0. 0. 0.]\n",
            " [0. 0. 0. 0. 0. 0. 0. 0. 0. 0. 0. 0. 0. 0. 0. 0. 0. 0. 0. 0.]\n",
            " [0. 0. 0. 0. 0. 0. 0. 0. 0. 0. 0. 0. 0. 0. 0. 0. 0. 0. 0. 0.]\n",
            " [0. 0. 0. 0. 0. 0. 0. 0. 0. 0. 0. 0. 0. 0. 0. 0. 0. 0. 0. 0.]\n",
            " [0. 0. 0. 0. 0. 0. 0. 0. 0. 0. 0. 0. 0. 0. 0. 0. 0. 0. 0. 0.]\n",
            " [0. 0. 0. 0. 0. 0. 0. 0. 0. 0. 0. 0. 0. 0. 0. 0. 0. 0. 0. 0.]\n",
            " [0. 0. 0. 0. 0. 0. 0. 0. 0. 0. 0. 0. 0. 0. 0. 0. 0. 0. 0. 0.]\n",
            " [0. 0. 0. 0. 0. 0. 0. 0. 0. 0. 0. 0. 0. 0. 0. 0. 0. 0. 0. 0.]\n",
            " [0. 0. 0. 0. 0. 0. 0. 0. 0. 0. 0. 0. 0. 0. 0. 0. 0. 0. 0. 0.]\n",
            " [0. 0. 0. 0. 0. 0. 0. 0. 0. 0. 0. 0. 0. 0. 0. 0. 0. 0. 0. 0.]\n",
            " [0. 0. 0. 0. 0. 0. 0. 0. 0. 0. 0. 0. 0. 0. 0. 0. 0. 0. 0. 0.]\n",
            " [0. 0. 0. 0. 0. 0. 0. 0. 0. 0. 0. 0. 0. 0. 0. 0. 0. 0. 0. 0.]\n",
            " [0. 0. 0. 0. 0. 0. 0. 0. 0. 0. 0. 0. 0. 0. 0. 0. 0. 0. 0. 0.]\n",
            " [0. 0. 0. 0. 0. 0. 0. 0. 0. 0. 0. 0. 0. 0. 0. 0. 0. 0. 0. 0.]\n",
            " [0. 0. 0. 0. 0. 0. 0. 0. 0. 0. 0. 0. 0. 0. 0. 0. 0. 0. 0. 0.]]\n",
            "(15, 20)\n"
          ],
          "name": "stdout"
        }
      ]
    },
    {
      "cell_type": "markdown",
      "metadata": {
        "id": "hCV8yRk01cdX"
      },
      "source": [
        "# **KNN Implemenation**"
      ]
    },
    {
      "cell_type": "code",
      "metadata": {
        "id": "3gqnk9HPJ2KT",
        "outputId": "5b1c784a-7ab9-4f7f-e053-f8a0092caff5",
        "colab": {
          "base_uri": "https://localhost:8080/",
          "height": 826
        }
      },
      "source": [
        "start=time.time()\n",
        "for hell in range(2,17):\n",
        "  start1=time.time()\n",
        "  model =PCA(n_components=hell)\n",
        "  pca = model.fit_transform(std_data)\n",
        "  X_train, X_test, y_train, y_test = train_test_split(pca, target, test_size = 0.7, random_state = 100)\n",
        "  print(\"For band =\",hell)\n",
        "  for i in range(1,21):\n",
        "    knn = KNeighborsClassifier(n_neighbors = i)\n",
        "    knn.fit(X_train,y_train)\n",
        "    y_pred=knn.predict(X_test)\n",
        "    #print(\"Accuracy:\",metrics.accuracy_score(y_test, y_pred),\"for k=\",i)\n",
        "    #print(hell-2,i-1)\n",
        "    acc[hell-2][i-1]=metrics.accuracy_score(y_test, y_pred)\n",
        "  end=time.time()\n",
        "  print(\"Time taken for band\",hell,\" is =\",end-start1,\"sec\")\n",
        "  max=np.argmax(acc[hell-2])\n",
        "  print(\"Max accuracy=\",acc[hell-2][max])\n",
        "end=time.time()\n",
        "print(\"Total Time Taken =\",end-start,\"sec\")\n"
      ],
      "execution_count": null,
      "outputs": [
        {
          "output_type": "stream",
          "text": [
            "For band = 2\n",
            "Time taken for band 2  is = 7.042325019836426 sec\n",
            "Max accuracy= 0.6155727680391357\n",
            "For band = 3\n",
            "Time taken for band 3  is = 7.472714185714722 sec\n",
            "Max accuracy= 0.6715586356841963\n",
            "For band = 4\n",
            "Time taken for band 4  is = 8.13159728050232 sec\n",
            "Max accuracy= 0.6713548036417991\n",
            "For band = 5\n",
            "Time taken for band 5  is = 8.191933870315552 sec\n",
            "Max accuracy= 0.6855551025954614\n",
            "For band = 6\n",
            "Time taken for band 6  is = 9.028401136398315 sec\n",
            "Max accuracy= 0.6975132490827558\n",
            "For band = 7\n",
            "Time taken for band 7  is = 9.011638164520264 sec\n",
            "Max accuracy= 0.6984644652806088\n",
            "For band = 8\n",
            "Time taken for band 8  is = 9.21393346786499 sec\n",
            "Max accuracy= 0.6979209131675499\n",
            "For band = 9\n",
            "Time taken for band 9  is = 9.910741806030273 sec\n",
            "Max accuracy= 0.694659600489197\n",
            "For band = 10\n",
            "Time taken for band 10  is = 10.62706971168518 sec\n",
            "Max accuracy= 0.6915341758391086\n",
            "For band = 11\n",
            "Time taken for band 11  is = 10.708582162857056 sec\n",
            "Max accuracy= 0.6918738959097703\n",
            "For band = 12\n",
            "Time taken for band 12  is = 11.529800176620483 sec\n",
            "Max accuracy= 0.6936404402772116\n",
            "For band = 13\n",
            "Time taken for band 13  is = 11.680148839950562 sec\n",
            "Max accuracy= 0.6964261448566381\n",
            "For band = 14\n",
            "Time taken for band 14  is = 12.020349025726318 sec\n",
            "Max accuracy= 0.695067264573991\n",
            "For band = 15\n",
            "Time taken for band 15  is = 12.47853708267212 sec\n",
            "Max accuracy= 0.6963582008425058\n",
            "For band = 16\n",
            "Time taken for band 16  is = 12.690353393554688 sec\n",
            "Max accuracy= 0.6979209131675499\n",
            "Total Time Taken = 149.75284004211426 sec\n"
          ],
          "name": "stdout"
        }
      ]
    },
    {
      "cell_type": "code",
      "metadata": {
        "id": "qT1rdMXMLLf8",
        "outputId": "c300d99b-101c-476d-b3fb-f7ca0a86872b",
        "colab": {
          "base_uri": "https://localhost:8080/",
          "height": 1000
        }
      },
      "source": [
        "print(acc.shape)\n",
        "print(acc)"
      ],
      "execution_count": null,
      "outputs": [
        {
          "output_type": "stream",
          "text": [
            "(15, 20)\n",
            "[[0.51664628 0.55816008 0.56658513 0.58363908 0.58411469 0.5913847\n",
            "  0.59491779 0.59811116 0.60150836 0.60504145 0.60741949 0.60918603\n",
            "  0.61013725 0.6117679  0.61475744 0.6146895  0.61434978 0.61455361\n",
            "  0.61557277 0.61448566]\n",
            " [0.60307107 0.62338633 0.64349776 0.65355347 0.65749422 0.66021199\n",
            "  0.66252208 0.666259   0.66727816 0.66707433 0.67006387 0.66986004\n",
            "  0.67053948 0.67067536 0.66992798 0.66979209 0.67033564 0.67115097\n",
            "  0.67094714 0.67155864]\n",
            " [0.614078   0.63459709 0.65063188 0.65796983 0.66225031 0.66469629\n",
            "  0.66938443 0.66788966 0.67121892 0.66945237 0.67033564 0.67074331\n",
            "  0.6713548  0.66836527 0.67033564 0.6702677  0.66979209 0.66931648\n",
            "  0.67006387 0.6696562 ]\n",
            " [0.63969289 0.65633918 0.67454817 0.67801332 0.68032341 0.68331295\n",
            "  0.6855551  0.68412828 0.68392445 0.6827694  0.68290529 0.68351678\n",
            "  0.68310912 0.68202201 0.68175024 0.6821579  0.68229379 0.68378856\n",
            "  0.68419622 0.68229379]\n",
            " [0.65708656 0.6685691  0.68521538 0.69228156 0.69499932 0.69724147\n",
            "  0.69364044 0.69391222 0.69662998 0.69751325 0.69676586 0.69649409\n",
            "  0.6946596  0.6957467  0.69561082 0.69384427 0.69214567 0.69418399\n",
            "  0.69316483 0.69262128]\n",
            " [0.66095937 0.67121892 0.68800109 0.69180595 0.69601848 0.69690175\n",
            "  0.69513521 0.69493138 0.69778503 0.69758119 0.69778503 0.69826063\n",
            "  0.69669792 0.69846447 0.6946596  0.69561082 0.69493138 0.69309689\n",
            "  0.69302894 0.69499932]\n",
            " [0.66170675 0.67203424 0.68929202 0.69384427 0.69676586 0.69785297\n",
            "  0.69561082 0.69499932 0.69724147 0.69771708 0.69669792 0.69724147\n",
            "  0.69649409 0.69792091 0.69309689 0.6963582  0.69350455 0.69316483\n",
            "  0.69330072 0.69472754]\n",
            " [0.65015627 0.66170675 0.68242968 0.68732165 0.68772931 0.68908819\n",
            "  0.69051502 0.69133034 0.69302894 0.68976763 0.69377633 0.6946596\n",
            "  0.69167006 0.69119446 0.69051502 0.6901753  0.68997146 0.6901753\n",
            "  0.68908819 0.68834081]\n",
            " [0.63473298 0.65273814 0.66986004 0.67930425 0.68344884 0.68732165\n",
            "  0.68603071 0.68840875 0.68969969 0.69153418 0.68888436 0.69037913\n",
            "  0.68915614 0.68698193 0.68902025 0.68806903 0.68929202 0.68915614\n",
            "  0.6889523  0.68793314]\n",
            " [0.63928523 0.65532002 0.67074331 0.68181818 0.68365267 0.68983558\n",
            "  0.68745753 0.68908819 0.69071885 0.6918739  0.68861258 0.68997146\n",
            "  0.6884767  0.6884767  0.68983558 0.68997146 0.69071885 0.68963174\n",
            "  0.68861258 0.69003941]\n",
            " [0.64118766 0.65708656 0.67339312 0.68460389 0.68854464 0.69119446\n",
            "  0.68976763 0.69119446 0.69364044 0.69275717 0.69112651 0.69037913\n",
            "  0.69037913 0.69119446 0.69262128 0.69194184 0.69024324 0.69024324\n",
            "  0.69092268 0.69194184]\n",
            " [0.64913711 0.66354124 0.68147846 0.69180595 0.69282511 0.69493138\n",
            "  0.69520315 0.69567876 0.69642614 0.69581465 0.6952711  0.69309689\n",
            "  0.6946596  0.69540698 0.69425194 0.6935725  0.69370838 0.69316483\n",
            "  0.69452371 0.69520315]\n",
            " [0.64682701 0.65994021 0.67740182 0.68929202 0.69316483 0.69384427\n",
            "  0.69438782 0.69479549 0.69330072 0.69302894 0.69493138 0.692961\n",
            "  0.69330072 0.69499932 0.69486343 0.69452371 0.69425194 0.69506726\n",
            "  0.69499932 0.69350455]\n",
            " [0.6418671  0.65796983 0.67848893 0.68671015 0.6906509  0.69486343\n",
            "  0.69499932 0.69377633 0.69486343 0.69384427 0.69398016 0.69547493\n",
            "  0.69391222 0.69459166 0.6963582  0.69445577 0.69384427 0.69336866\n",
            "  0.69160212 0.69336866]\n",
            " [0.64621552 0.65973638 0.67842098 0.6878652  0.69268922 0.69398016\n",
            "  0.69785297 0.69438782 0.69540698 0.69669792 0.69676586 0.69792091\n",
            "  0.69649409 0.69649409 0.69425194 0.69472754 0.69282511 0.69350455\n",
            "  0.69262128 0.69146623]]\n"
          ],
          "name": "stdout"
        }
      ]
    },
    {
      "cell_type": "code",
      "metadata": {
        "id": "owC1kVdAQ-bh",
        "outputId": "b95f6c80-86b9-49a9-8d5f-655effdbe190",
        "colab": {
          "base_uri": "https://localhost:8080/",
          "height": 265
        }
      },
      "source": [
        "for i in range(0,14):\n",
        "  plt.plot(acc[i])\n",
        "plt.show()"
      ],
      "execution_count": null,
      "outputs": [
        {
          "output_type": "display_data",
          "data": {
            "image/png": "[encoded data removed]",
            "text/plain": [
              "<Figure size 432x288 with 1 Axes>"
            ]
          },
          "metadata": {
            "tags": []
          }
        }
      ]
    },
    {
      "cell_type": "code",
      "metadata": {
        "id": "iVBVRa62ShJD",
        "outputId": "d84100b0-5cd1-4652-a503-85c5862d32a0",
        "colab": {
          "base_uri": "https://localhost:8080/",
          "height": 34
        }
      },
      "source": [
        "temp=band=k=0\n",
        "for i in range(0,14):\n",
        "  for j in range(0,20):\n",
        "    if temp<acc[i][j]:\n",
        "      temp=acc[i][j]\n",
        "      band=i+2\n",
        "      k=j+1\n",
        "print(\"BAND = \",band,\"K-Value=\",k,\"MAX ACCURACY=\",acc[band-2][k-1])"
      ],
      "execution_count": null,
      "outputs": [
        {
          "output_type": "stream",
          "text": [
            "BAND =  7 K-Value= 14 MAX ACCURACY= 0.6984644652806088\n"
          ],
          "name": "stdout"
        }
      ]
    },
    {
      "cell_type": "code",
      "metadata": {
        "id": "Xm2RcNsEX9R7",
        "outputId": "9c9ba145-fce3-400e-9717-e2ac9d0b02e6",
        "colab": {
          "base_uri": "https://localhost:8080/",
          "height": 574
        }
      },
      "source": [
        "model =PCA(n_components=band)\n",
        "pca = model.fit_transform(std_data)\n",
        "X_train, X_test, y_train, y_test = train_test_split(pca, target, test_size = 0.7, random_state = 100)\n",
        "knn = KNeighborsClassifier(n_neighbors = k)\n",
        "knn.fit(X_train,y_train)\n",
        "y_pred=knn.predict(X_test)\n",
        "\n",
        "print(\"Accuracy:\",metrics.accuracy_score(y_test, y_pred))\n",
        "print(\"KAppa Coeefecient:\",metrics.cohen_kappa_score(y_test, y_pred))\n",
        "print(\"Average Time:\",(end-start)/320)\n",
        "\n",
        "output=knn.predict(pca)\n",
        "output=np.reshape(output,(145,145))\n",
        "gt=np.reshape(target,(145,145))\n",
        "from matplotlib.pyplot import imshow, show, colorbar\n",
        "imshow(output)\n",
        "colorbar()\n",
        "show()\n",
        "imshow(gt)\n",
        "colorbar()\n",
        "show()"
      ],
      "execution_count": null,
      "outputs": [
        {
          "output_type": "stream",
          "text": [
            "Accuracy: 0.6984644652806088\n",
            "KAppa Coeefecient: 0.5554160605904925\n",
            "Average Time: 0.46797762513160707\n"
          ],
          "name": "stdout"
        },
        {
          "output_type": "display_data",
          "data": {
            "image/png": "[encoded data removed]",
            "text/plain": [
              "<Figure size 432x288 with 2 Axes>"
            ]
          },
          "metadata": {
            "tags": []
          }
        },
        {
          "output_type": "display_data",
          "data": {
            "image/png": "[encoded data removed]",
            "text/plain": [
              "<Figure size 432x288 with 2 Axes>"
            ]
          },
          "metadata": {
            "tags": []
          }
        }
      ]
    },
    {
      "cell_type": "code",
      "metadata": {
        "id": "8Y1eSYJ0HRoC",
        "outputId": "fb2c3c54-2f7a-48f8-dbe1-7cb1211fd6ba",
        "colab": {
          "base_uri": "https://localhost:8080/",
          "height": 67
        }
      },
      "source": [
        "from sklearn.model_selection import cross_val_score\n",
        "knn = KNeighborsClassifier(n_neighbors = k)\n",
        "scores = cross_val_score(knn, pca, target, cv=10, scoring='accuracy')\n",
        "print(scores)\n",
        "print(scores.mean())"
      ],
      "execution_count": null,
      "outputs": [
        {
          "output_type": "stream",
          "text": [
            "[0.5182551  0.67330488 0.65180266 0.65463183 0.73966746 0.75784967\n",
            " 0.73034778 0.67683508 0.70883055 0.59570406]\n",
            "0.6707229063869071\n"
          ],
          "name": "stdout"
        }
      ]
    },
    {
      "cell_type": "markdown",
      "metadata": {
        "id": "zXiCwkNX1sMx"
      },
      "source": [
        "# **SVM Implementation**"
      ]
    },
    {
      "cell_type": "code",
      "metadata": {
        "id": "ZlbSPFvI2r9l"
      },
      "source": [
        "from sklearn import svm\n",
        "acs=np.zeros(16)"
      ],
      "execution_count": null,
      "outputs": []
    },
    {
      "cell_type": "code",
      "metadata": {
        "id": "o08bcdf91wMF",
        "outputId": "744ff5eb-4000-4a8a-ed20-13932b19a78c",
        "colab": {
          "base_uri": "https://localhost:8080/",
          "height": 298
        }
      },
      "source": [
        "start=time.time()\n",
        "for hell in range(2,17):\n",
        "  start1=time.time()\n",
        "  model =PCA(n_components=hell)\n",
        "  pca = model.fit_transform(std_data)\n",
        "  X_train, X_test, y_train, y_test = train_test_split(pca, target, test_size = 0.7, random_state = 100)\n",
        "  clf = svm.SVC(C=175,kernel='rbf',gamma=0.75)\n",
        "  clf.fit(X_train, y_train)\n",
        "  y_pred = clf.predict(X_test)\n",
        "  acs[hell-2]=metrics.accuracy_score(y_test, y_pred)\n",
        "  end=time.time()\n",
        "  print(\"Time taken for band\",hell,\" is =\",end-start1,\"sec\",\"Accuracy=\",acs[hell-2])\n",
        "end=time.time()\n",
        "print(\"Total Time Taken =\",end-start,\"sec\")"
      ],
      "execution_count": null,
      "outputs": [
        {
          "output_type": "stream",
          "text": [
            "Time taken for band 2  is = 10.759113550186157 sec Accuracy= 0.6184943606468271\n",
            "Time taken for band 3  is = 7.77548885345459 sec Accuracy= 0.6763826606875935\n",
            "Time taken for band 4  is = 7.117017984390259 sec Accuracy= 0.6866422068215791\n",
            "Time taken for band 5  is = 6.0272157192230225 sec Accuracy= 0.7142274765593152\n",
            "Time taken for band 6  is = 4.996236324310303 sec Accuracy= 0.7378040494632423\n",
            "Time taken for band 7  is = 4.865988254547119 sec Accuracy= 0.7392308737600217\n",
            "Time taken for band 8  is = 4.739520788192749 sec Accuracy= 0.7418127462970512\n",
            "Time taken for band 9  is = 4.804008483886719 sec Accuracy= 0.7359016170675363\n",
            "Time taken for band 10  is = 4.8734657764434814 sec Accuracy= 0.7314173121348009\n",
            "Time taken for band 11  is = 4.851472616195679 sec Accuracy= 0.7317570322054627\n",
            "Time taken for band 12  is = 4.944128751754761 sec Accuracy= 0.7361054491099334\n",
            "Time taken for band 13  is = 4.990297555923462 sec Accuracy= 0.7532273406712868\n",
            "Time taken for band 14  is = 5.011105537414551 sec Accuracy= 0.752683788558228\n",
            "Time taken for band 15  is = 5.141097784042358 sec Accuracy= 0.7495583639081397\n",
            "Time taken for band 16  is = 5.232561826705933 sec Accuracy= 0.7468406033428455\n",
            "Total Time Taken = 86.14325547218323 sec\n"
          ],
          "name": "stdout"
        }
      ]
    },
    {
      "cell_type": "code",
      "metadata": {
        "id": "b0QxPI1X-t39",
        "outputId": "095d5d25-8fde-411e-91a4-2251ee6fb98a",
        "colab": {
          "base_uri": "https://localhost:8080/",
          "height": 87
        }
      },
      "source": [
        "max=np.argmax(acs)\n",
        "print(max+2)\n",
        "model =PCA(n_components=max+2)\n",
        "pca = model.fit_transform(std_data)\n",
        "X_train, X_test, y_train, y_test = train_test_split(pca, target, test_size = 0.7, random_state = 100)\n",
        "clf = svm.SVC(C=175,kernel='rbf',gamma=0.75)\n",
        "clf.fit(X_train, y_train)\n",
        "y_pred = clf.predict(X_test)\n",
        "print(\"Accuracy=\",metrics.accuracy_score(y_test, y_pred))\n",
        "print(\"Kappa Coeefeicient=\",cohen_kappa_score(y_test, y_pred))\n",
        "print(\"Average Time:\",(end-start)/14)"
      ],
      "execution_count": null,
      "outputs": [
        {
          "output_type": "stream",
          "text": [
            "13\n",
            "Accuracy= 0.7528196765864927\n",
            "Kappa Coeefeicient= 0.6422789775720683\n",
            "Average Time: 6.153089676584516\n"
          ],
          "name": "stdout"
        }
      ]
    },
    {
      "cell_type": "code",
      "metadata": {
        "id": "YMG4Dv46_DHk",
        "outputId": "79fae460-c24a-4f53-bc98-c0eb94832843",
        "colab": {
          "base_uri": "https://localhost:8080/",
          "height": 538
        }
      },
      "source": [
        "model =PCA(n_components=max+2)\n",
        "pca = model.fit_transform(std_data)\n",
        "X_train, X_test, y_train, y_test = train_test_split(pca, target, test_size = 0.7, random_state = 100)\n",
        "clf = svm.SVC(C=175,kernel='rbf',gamma=0.75)\n",
        "clf.fit(X_train, y_train)\n",
        "output = clf.predict(pca)\n",
        "ans=metrics.accuracy_score(output,target)\n",
        "print(ans)\n",
        "output=np.reshape(output,(145,145))\n",
        "gt=np.reshape(target,(145,145))\n",
        "from matplotlib.pyplot import imshow, show, colorbar\n",
        "imshow(output)\n",
        "colorbar()\n",
        "show()\n",
        "imshow(gt)\n",
        "colorbar()\n",
        "show()"
      ],
      "execution_count": null,
      "outputs": [
        {
          "output_type": "stream",
          "text": [
            "0.7962901307966707\n"
          ],
          "name": "stdout"
        },
        {
          "output_type": "display_data",
          "data": {
            "image/png": "[encoded data removed]",
            "text/plain": [
              "<Figure size 432x288 with 2 Axes>"
            ]
          },
          "metadata": {
            "tags": []
          }
        },
        {
          "output_type": "display_data",
          "data": {
            "image/png": "[encoded data removed]",
            "text/plain": [
              "<Figure size 432x288 with 2 Axes>"
            ]
          },
          "metadata": {
            "tags": []
          }
        }
      ]
    },
    {
      "cell_type": "code",
      "metadata": {
        "id": "H1jc3f4tBHeX",
        "outputId": "c6fa3a52-444a-4581-c176-3e077552bdea",
        "colab": {
          "base_uri": "https://localhost:8080/",
          "height": 70
        }
      },
      "source": [
        "from sklearn.model_selection import cross_val_score\n",
        "svm = svm.SVC(C=175,kernel='rbf',gamma=0.75)\n",
        "scores = cross_val_score(svm, pca, target, cv=10, scoring='accuracy')\n",
        "print(scores)\n",
        "print(scores.mean())"
      ],
      "execution_count": null,
      "outputs": [
        {
          "output_type": "stream",
          "text": [
            "[0.55967665 0.72515454 0.67189729 0.70470756 0.81645269 0.8320647\n",
            " 0.78068506 0.68411037 0.77164605 0.66698382]\n",
            "0.7213378739899913\n"
          ],
          "name": "stdout"
        }
      ]
    }
  ]
}