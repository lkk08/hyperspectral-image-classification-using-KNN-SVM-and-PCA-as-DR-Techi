{
  "nbformat": 4,
  "nbformat_minor": 0,
  "metadata": {
    "colab": {
      "name": "7000+RPM (PaviaUniversity).ipynb",
      "provenance": [],
      "collapsed_sections": []
    },
    "kernelspec": {
      "name": "python3",
      "display_name": "Python 3"
    },
    "accelerator": "GPU"
  },
  "cells": [
    {
      "cell_type": "markdown",
      "metadata": {
        "id": "V49GzoOxF20-"
      },
      "source": [
        "# **Dataset Reading**"
      ]
    },
    {
      "cell_type": "code",
      "metadata": {
        "id": "RUpU27zwJam0",
        "outputId": "acc01c37-e111-49a7-f9ed-1ba9ed2a78fe",
        "colab": {
          "base_uri": "https://localhost:8080/",
          "height": 34
        }
      },
      "source": [
        "from google.colab import drive\n",
        "drive.mount('/content/drive')"
      ],
      "execution_count": null,
      "outputs": [
        {
          "output_type": "stream",
          "text": [
            "Drive already mounted at /content/drive; to attempt to forcibly remount, call drive.mount(\"/content/drive\", force_remount=True).\n"
          ],
          "name": "stdout"
        }
      ]
    },
    {
      "cell_type": "code",
      "metadata": {
        "id": "Anb_SOhVJh5Q"
      },
      "source": [
        "import pandas as pd \n",
        "import numpy as np\n",
        "import matplotlib.pyplot as plt\n",
        "from sklearn import preprocessing\n",
        "from sklearn.preprocessing import MinMaxScaler\n",
        "from sklearn import decomposition\n",
        "from sklearn import datasets\n",
        "from sklearn.model_selection import train_test_split\n",
        "from sklearn.neighbors import KNeighborsClassifier\n",
        "from sklearn import metrics\n",
        "import time\n",
        "from sklearn.decomposition import PCA\n",
        "from sklearn.metrics import cohen_kappa_score"
      ],
      "execution_count": null,
      "outputs": []
    },
    {
      "cell_type": "code",
      "metadata": {
        "id": "ONsMJh-5Jjk7",
        "outputId": "01a84141-c0fa-4dab-bb50-72f0a0be6cc5",
        "colab": {
          "base_uri": "https://localhost:8080/",
          "height": 244
        }
      },
      "source": [
        "data = pd.read_csv('/content/drive/My Drive/Project HYPERSPECTRAL/Datasets/pavia_Complete.csv')\n",
        "data.head()"
      ],
      "execution_count": null,
      "outputs": [
        {
          "output_type": "execute_result",
          "data": {
            "text/html": [
              "<div>\n",
              "<style scoped>\n",
              "    .dataframe tbody tr th:only-of-type {\n",
              "        vertical-align: middle;\n",
              "    }\n",
              "\n",
              "    .dataframe tbody tr th {\n",
              "        vertical-align: top;\n",
              "    }\n",
              "\n",
              "    .dataframe thead th {\n",
              "        text-align: right;\n",
              "    }\n",
              "</style>\n",
              "<table border=\"1\" class=\"dataframe\">\n",
              "  <thead>\n",
              "    <tr style=\"text-align: right;\">\n",
              "      <th></th>\n",
              "      <th>band1</th>\n",
              "      <th>band2</th>\n",
              "      <th>band3</th>\n",
              "      <th>band4</th>\n",
              "      <th>band5</th>\n",
              "      <th>band6</th>\n",
              "      <th>band7</th>\n",
              "      <th>band8</th>\n",
              "      <th>band9</th>\n",
              "      <th>band10</th>\n",
              "      <th>band11</th>\n",
              "      <th>band12</th>\n",
              "      <th>band13</th>\n",
              "      <th>band14</th>\n",
              "      <th>band15</th>\n",
              "      <th>band16</th>\n",
              "      <th>band17</th>\n",
              "      <th>band18</th>\n",
              "      <th>band19</th>\n",
              "      <th>band20</th>\n",
              "      <th>band21</th>\n",
              "      <th>band22</th>\n",
              "      <th>band23</th>\n",
              "      <th>band24</th>\n",
              "      <th>band25</th>\n",
              "      <th>band26</th>\n",
              "      <th>band27</th>\n",
              "      <th>band28</th>\n",
              "      <th>band29</th>\n",
              "      <th>band30</th>\n",
              "      <th>band31</th>\n",
              "      <th>band32</th>\n",
              "      <th>band33</th>\n",
              "      <th>band34</th>\n",
              "      <th>band35</th>\n",
              "      <th>band36</th>\n",
              "      <th>band37</th>\n",
              "      <th>band38</th>\n",
              "      <th>band39</th>\n",
              "      <th>band40</th>\n",
              "      <th>...</th>\n",
              "      <th>band65</th>\n",
              "      <th>band66</th>\n",
              "      <th>band67</th>\n",
              "      <th>band68</th>\n",
              "      <th>band69</th>\n",
              "      <th>band70</th>\n",
              "      <th>band71</th>\n",
              "      <th>band72</th>\n",
              "      <th>band73</th>\n",
              "      <th>band74</th>\n",
              "      <th>band75</th>\n",
              "      <th>band76</th>\n",
              "      <th>band77</th>\n",
              "      <th>band78</th>\n",
              "      <th>band79</th>\n",
              "      <th>band80</th>\n",
              "      <th>band81</th>\n",
              "      <th>band82</th>\n",
              "      <th>band83</th>\n",
              "      <th>band84</th>\n",
              "      <th>band85</th>\n",
              "      <th>band86</th>\n",
              "      <th>band87</th>\n",
              "      <th>band88</th>\n",
              "      <th>band89</th>\n",
              "      <th>band90</th>\n",
              "      <th>band91</th>\n",
              "      <th>band92</th>\n",
              "      <th>band93</th>\n",
              "      <th>band94</th>\n",
              "      <th>band95</th>\n",
              "      <th>band96</th>\n",
              "      <th>band97</th>\n",
              "      <th>band98</th>\n",
              "      <th>band99</th>\n",
              "      <th>band100</th>\n",
              "      <th>band101</th>\n",
              "      <th>band102</th>\n",
              "      <th>band103</th>\n",
              "      <th>Label</th>\n",
              "    </tr>\n",
              "  </thead>\n",
              "  <tbody>\n",
              "    <tr>\n",
              "      <th>0</th>\n",
              "      <td>647</td>\n",
              "      <td>499</td>\n",
              "      <td>464</td>\n",
              "      <td>371</td>\n",
              "      <td>291</td>\n",
              "      <td>319</td>\n",
              "      <td>365</td>\n",
              "      <td>322</td>\n",
              "      <td>296</td>\n",
              "      <td>305</td>\n",
              "      <td>277</td>\n",
              "      <td>219</td>\n",
              "      <td>219</td>\n",
              "      <td>222</td>\n",
              "      <td>201</td>\n",
              "      <td>162</td>\n",
              "      <td>157</td>\n",
              "      <td>183</td>\n",
              "      <td>204</td>\n",
              "      <td>194</td>\n",
              "      <td>198</td>\n",
              "      <td>216</td>\n",
              "      <td>249</td>\n",
              "      <td>284</td>\n",
              "      <td>294</td>\n",
              "      <td>322</td>\n",
              "      <td>338</td>\n",
              "      <td>342</td>\n",
              "      <td>336</td>\n",
              "      <td>342</td>\n",
              "      <td>362</td>\n",
              "      <td>365</td>\n",
              "      <td>348</td>\n",
              "      <td>341</td>\n",
              "      <td>324</td>\n",
              "      <td>316</td>\n",
              "      <td>293</td>\n",
              "      <td>274</td>\n",
              "      <td>251</td>\n",
              "      <td>244</td>\n",
              "      <td>...</td>\n",
              "      <td>192</td>\n",
              "      <td>227</td>\n",
              "      <td>287</td>\n",
              "      <td>376</td>\n",
              "      <td>493</td>\n",
              "      <td>633</td>\n",
              "      <td>763</td>\n",
              "      <td>913</td>\n",
              "      <td>1149</td>\n",
              "      <td>1442</td>\n",
              "      <td>1759</td>\n",
              "      <td>2102</td>\n",
              "      <td>2425</td>\n",
              "      <td>2689</td>\n",
              "      <td>2895</td>\n",
              "      <td>3058</td>\n",
              "      <td>3196</td>\n",
              "      <td>3252</td>\n",
              "      <td>3195</td>\n",
              "      <td>3297</td>\n",
              "      <td>3542</td>\n",
              "      <td>3550</td>\n",
              "      <td>3537</td>\n",
              "      <td>3545</td>\n",
              "      <td>3514</td>\n",
              "      <td>3477</td>\n",
              "      <td>3468</td>\n",
              "      <td>3433</td>\n",
              "      <td>3408</td>\n",
              "      <td>3420</td>\n",
              "      <td>3416</td>\n",
              "      <td>3335</td>\n",
              "      <td>3256</td>\n",
              "      <td>3226</td>\n",
              "      <td>3205</td>\n",
              "      <td>3210</td>\n",
              "      <td>3221</td>\n",
              "      <td>3238</td>\n",
              "      <td>3250</td>\n",
              "      <td>0</td>\n",
              "    </tr>\n",
              "    <tr>\n",
              "      <th>1</th>\n",
              "      <td>705</td>\n",
              "      <td>681</td>\n",
              "      <td>668</td>\n",
              "      <td>666</td>\n",
              "      <td>434</td>\n",
              "      <td>345</td>\n",
              "      <td>369</td>\n",
              "      <td>374</td>\n",
              "      <td>313</td>\n",
              "      <td>218</td>\n",
              "      <td>219</td>\n",
              "      <td>213</td>\n",
              "      <td>188</td>\n",
              "      <td>187</td>\n",
              "      <td>166</td>\n",
              "      <td>172</td>\n",
              "      <td>212</td>\n",
              "      <td>238</td>\n",
              "      <td>247</td>\n",
              "      <td>271</td>\n",
              "      <td>295</td>\n",
              "      <td>317</td>\n",
              "      <td>344</td>\n",
              "      <td>338</td>\n",
              "      <td>340</td>\n",
              "      <td>362</td>\n",
              "      <td>347</td>\n",
              "      <td>327</td>\n",
              "      <td>359</td>\n",
              "      <td>365</td>\n",
              "      <td>368</td>\n",
              "      <td>364</td>\n",
              "      <td>348</td>\n",
              "      <td>336</td>\n",
              "      <td>324</td>\n",
              "      <td>306</td>\n",
              "      <td>286</td>\n",
              "      <td>277</td>\n",
              "      <td>278</td>\n",
              "      <td>288</td>\n",
              "      <td>...</td>\n",
              "      <td>166</td>\n",
              "      <td>202</td>\n",
              "      <td>252</td>\n",
              "      <td>304</td>\n",
              "      <td>396</td>\n",
              "      <td>517</td>\n",
              "      <td>654</td>\n",
              "      <td>795</td>\n",
              "      <td>960</td>\n",
              "      <td>1186</td>\n",
              "      <td>1482</td>\n",
              "      <td>1795</td>\n",
              "      <td>2066</td>\n",
              "      <td>2286</td>\n",
              "      <td>2467</td>\n",
              "      <td>2603</td>\n",
              "      <td>2696</td>\n",
              "      <td>2725</td>\n",
              "      <td>2682</td>\n",
              "      <td>2770</td>\n",
              "      <td>2959</td>\n",
              "      <td>2999</td>\n",
              "      <td>2956</td>\n",
              "      <td>2914</td>\n",
              "      <td>2897</td>\n",
              "      <td>2867</td>\n",
              "      <td>2867</td>\n",
              "      <td>2877</td>\n",
              "      <td>2847</td>\n",
              "      <td>2826</td>\n",
              "      <td>2817</td>\n",
              "      <td>2734</td>\n",
              "      <td>2632</td>\n",
              "      <td>2589</td>\n",
              "      <td>2595</td>\n",
              "      <td>2611</td>\n",
              "      <td>2607</td>\n",
              "      <td>2607</td>\n",
              "      <td>2609</td>\n",
              "      <td>0</td>\n",
              "    </tr>\n",
              "    <tr>\n",
              "      <th>2</th>\n",
              "      <td>1084</td>\n",
              "      <td>875</td>\n",
              "      <td>706</td>\n",
              "      <td>623</td>\n",
              "      <td>493</td>\n",
              "      <td>477</td>\n",
              "      <td>439</td>\n",
              "      <td>364</td>\n",
              "      <td>339</td>\n",
              "      <td>304</td>\n",
              "      <td>267</td>\n",
              "      <td>199</td>\n",
              "      <td>207</td>\n",
              "      <td>251</td>\n",
              "      <td>240</td>\n",
              "      <td>215</td>\n",
              "      <td>200</td>\n",
              "      <td>198</td>\n",
              "      <td>222</td>\n",
              "      <td>233</td>\n",
              "      <td>235</td>\n",
              "      <td>233</td>\n",
              "      <td>250</td>\n",
              "      <td>266</td>\n",
              "      <td>280</td>\n",
              "      <td>315</td>\n",
              "      <td>337</td>\n",
              "      <td>357</td>\n",
              "      <td>379</td>\n",
              "      <td>375</td>\n",
              "      <td>351</td>\n",
              "      <td>324</td>\n",
              "      <td>328</td>\n",
              "      <td>321</td>\n",
              "      <td>296</td>\n",
              "      <td>277</td>\n",
              "      <td>253</td>\n",
              "      <td>225</td>\n",
              "      <td>213</td>\n",
              "      <td>229</td>\n",
              "      <td>...</td>\n",
              "      <td>155</td>\n",
              "      <td>200</td>\n",
              "      <td>261</td>\n",
              "      <td>318</td>\n",
              "      <td>386</td>\n",
              "      <td>480</td>\n",
              "      <td>596</td>\n",
              "      <td>736</td>\n",
              "      <td>898</td>\n",
              "      <td>1105</td>\n",
              "      <td>1338</td>\n",
              "      <td>1579</td>\n",
              "      <td>1795</td>\n",
              "      <td>1968</td>\n",
              "      <td>2107</td>\n",
              "      <td>2230</td>\n",
              "      <td>2324</td>\n",
              "      <td>2337</td>\n",
              "      <td>2278</td>\n",
              "      <td>2307</td>\n",
              "      <td>2448</td>\n",
              "      <td>2453</td>\n",
              "      <td>2423</td>\n",
              "      <td>2439</td>\n",
              "      <td>2453</td>\n",
              "      <td>2436</td>\n",
              "      <td>2449</td>\n",
              "      <td>2434</td>\n",
              "      <td>2375</td>\n",
              "      <td>2346</td>\n",
              "      <td>2350</td>\n",
              "      <td>2271</td>\n",
              "      <td>2217</td>\n",
              "      <td>2215</td>\n",
              "      <td>2185</td>\n",
              "      <td>2122</td>\n",
              "      <td>2108</td>\n",
              "      <td>2167</td>\n",
              "      <td>2183</td>\n",
              "      <td>0</td>\n",
              "    </tr>\n",
              "    <tr>\n",
              "      <th>3</th>\n",
              "      <td>1019</td>\n",
              "      <td>917</td>\n",
              "      <td>717</td>\n",
              "      <td>554</td>\n",
              "      <td>517</td>\n",
              "      <td>474</td>\n",
              "      <td>448</td>\n",
              "      <td>414</td>\n",
              "      <td>371</td>\n",
              "      <td>362</td>\n",
              "      <td>380</td>\n",
              "      <td>369</td>\n",
              "      <td>342</td>\n",
              "      <td>272</td>\n",
              "      <td>237</td>\n",
              "      <td>263</td>\n",
              "      <td>275</td>\n",
              "      <td>261</td>\n",
              "      <td>232</td>\n",
              "      <td>233</td>\n",
              "      <td>234</td>\n",
              "      <td>230</td>\n",
              "      <td>254</td>\n",
              "      <td>272</td>\n",
              "      <td>263</td>\n",
              "      <td>280</td>\n",
              "      <td>303</td>\n",
              "      <td>311</td>\n",
              "      <td>319</td>\n",
              "      <td>311</td>\n",
              "      <td>301</td>\n",
              "      <td>312</td>\n",
              "      <td>307</td>\n",
              "      <td>292</td>\n",
              "      <td>282</td>\n",
              "      <td>260</td>\n",
              "      <td>225</td>\n",
              "      <td>206</td>\n",
              "      <td>200</td>\n",
              "      <td>207</td>\n",
              "      <td>...</td>\n",
              "      <td>131</td>\n",
              "      <td>150</td>\n",
              "      <td>179</td>\n",
              "      <td>211</td>\n",
              "      <td>254</td>\n",
              "      <td>306</td>\n",
              "      <td>336</td>\n",
              "      <td>356</td>\n",
              "      <td>425</td>\n",
              "      <td>517</td>\n",
              "      <td>582</td>\n",
              "      <td>680</td>\n",
              "      <td>779</td>\n",
              "      <td>824</td>\n",
              "      <td>854</td>\n",
              "      <td>899</td>\n",
              "      <td>939</td>\n",
              "      <td>948</td>\n",
              "      <td>953</td>\n",
              "      <td>1006</td>\n",
              "      <td>1038</td>\n",
              "      <td>997</td>\n",
              "      <td>982</td>\n",
              "      <td>996</td>\n",
              "      <td>987</td>\n",
              "      <td>954</td>\n",
              "      <td>961</td>\n",
              "      <td>976</td>\n",
              "      <td>985</td>\n",
              "      <td>977</td>\n",
              "      <td>976</td>\n",
              "      <td>952</td>\n",
              "      <td>936</td>\n",
              "      <td>940</td>\n",
              "      <td>928</td>\n",
              "      <td>885</td>\n",
              "      <td>862</td>\n",
              "      <td>888</td>\n",
              "      <td>897</td>\n",
              "      <td>0</td>\n",
              "    </tr>\n",
              "    <tr>\n",
              "      <th>4</th>\n",
              "      <td>760</td>\n",
              "      <td>744</td>\n",
              "      <td>786</td>\n",
              "      <td>922</td>\n",
              "      <td>755</td>\n",
              "      <td>566</td>\n",
              "      <td>487</td>\n",
              "      <td>449</td>\n",
              "      <td>439</td>\n",
              "      <td>399</td>\n",
              "      <td>365</td>\n",
              "      <td>337</td>\n",
              "      <td>374</td>\n",
              "      <td>415</td>\n",
              "      <td>392</td>\n",
              "      <td>361</td>\n",
              "      <td>351</td>\n",
              "      <td>351</td>\n",
              "      <td>352</td>\n",
              "      <td>344</td>\n",
              "      <td>356</td>\n",
              "      <td>394</td>\n",
              "      <td>402</td>\n",
              "      <td>412</td>\n",
              "      <td>423</td>\n",
              "      <td>413</td>\n",
              "      <td>401</td>\n",
              "      <td>412</td>\n",
              "      <td>410</td>\n",
              "      <td>400</td>\n",
              "      <td>413</td>\n",
              "      <td>407</td>\n",
              "      <td>384</td>\n",
              "      <td>380</td>\n",
              "      <td>395</td>\n",
              "      <td>391</td>\n",
              "      <td>376</td>\n",
              "      <td>349</td>\n",
              "      <td>328</td>\n",
              "      <td>336</td>\n",
              "      <td>...</td>\n",
              "      <td>196</td>\n",
              "      <td>219</td>\n",
              "      <td>237</td>\n",
              "      <td>257</td>\n",
              "      <td>284</td>\n",
              "      <td>298</td>\n",
              "      <td>318</td>\n",
              "      <td>356</td>\n",
              "      <td>420</td>\n",
              "      <td>473</td>\n",
              "      <td>509</td>\n",
              "      <td>532</td>\n",
              "      <td>570</td>\n",
              "      <td>597</td>\n",
              "      <td>611</td>\n",
              "      <td>625</td>\n",
              "      <td>646</td>\n",
              "      <td>617</td>\n",
              "      <td>595</td>\n",
              "      <td>674</td>\n",
              "      <td>721</td>\n",
              "      <td>695</td>\n",
              "      <td>677</td>\n",
              "      <td>673</td>\n",
              "      <td>686</td>\n",
              "      <td>709</td>\n",
              "      <td>716</td>\n",
              "      <td>685</td>\n",
              "      <td>659</td>\n",
              "      <td>664</td>\n",
              "      <td>669</td>\n",
              "      <td>656</td>\n",
              "      <td>651</td>\n",
              "      <td>683</td>\n",
              "      <td>675</td>\n",
              "      <td>650</td>\n",
              "      <td>624</td>\n",
              "      <td>643</td>\n",
              "      <td>697</td>\n",
              "      <td>0</td>\n",
              "    </tr>\n",
              "  </tbody>\n",
              "</table>\n",
              "<p>5 rows × 104 columns</p>\n",
              "</div>"
            ],
            "text/plain": [
              "   band1  band2  band3  band4  band5  ...  band100  band101  band102  band103  Label\n",
              "0    647    499    464    371    291  ...     3210     3221     3238     3250      0\n",
              "1    705    681    668    666    434  ...     2611     2607     2607     2609      0\n",
              "2   1084    875    706    623    493  ...     2122     2108     2167     2183      0\n",
              "3   1019    917    717    554    517  ...      885      862      888      897      0\n",
              "4    760    744    786    922    755  ...      650      624      643      697      0\n",
              "\n",
              "[5 rows x 104 columns]"
            ]
          },
          "metadata": {
            "tags": []
          },
          "execution_count": 12
        }
      ]
    },
    {
      "cell_type": "code",
      "metadata": {
        "id": "UIvDiEcNJlhx",
        "outputId": "e2c65034-c5a3-47f7-d6a2-d2a09b12070d",
        "colab": {
          "base_uri": "https://localhost:8080/",
          "height": 52
        }
      },
      "source": [
        "list=data.loc[:,['Label']]\n",
        "list1=list.values\n",
        "target=data['Label']\n",
        "target.head()\n",
        "target=target.to_numpy()\n",
        "print(target.shape)\n",
        "print(target)"
      ],
      "execution_count": null,
      "outputs": [
        {
          "output_type": "stream",
          "text": [
            "(207400,)\n",
            "[0 0 0 ... 0 0 0]\n"
          ],
          "name": "stdout"
        }
      ]
    },
    {
      "cell_type": "code",
      "metadata": {
        "id": "LA65o7jdJrzT"
      },
      "source": [
        "data=data.drop('Label',axis=1)\n",
        "data.head()\n",
        "data=data.to_numpy()"
      ],
      "execution_count": null,
      "outputs": []
    },
    {
      "cell_type": "code",
      "metadata": {
        "id": "mLB3qhotJtgP"
      },
      "source": [
        "std_data = MinMaxScaler().fit_transform(data)\n",
        "std_data.shape\n",
        "acc=np.zeros((15,20))"
      ],
      "execution_count": null,
      "outputs": []
    },
    {
      "cell_type": "code",
      "metadata": {
        "id": "kzXUBG0HL7i1",
        "outputId": "288b36c6-154c-4bc3-c238-5461d07fd924",
        "colab": {
          "base_uri": "https://localhost:8080/",
          "height": 298
        }
      },
      "source": [
        "print(acc)\n",
        "print(acc.shape)"
      ],
      "execution_count": null,
      "outputs": [
        {
          "output_type": "stream",
          "text": [
            "[[0. 0. 0. 0. 0. 0. 0. 0. 0. 0. 0. 0. 0. 0. 0. 0. 0. 0. 0. 0.]\n",
            " [0. 0. 0. 0. 0. 0. 0. 0. 0. 0. 0. 0. 0. 0. 0. 0. 0. 0. 0. 0.]\n",
            " [0. 0. 0. 0. 0. 0. 0. 0. 0. 0. 0. 0. 0. 0. 0. 0. 0. 0. 0. 0.]\n",
            " [0. 0. 0. 0. 0. 0. 0. 0. 0. 0. 0. 0. 0. 0. 0. 0. 0. 0. 0. 0.]\n",
            " [0. 0. 0. 0. 0. 0. 0. 0. 0. 0. 0. 0. 0. 0. 0. 0. 0. 0. 0. 0.]\n",
            " [0. 0. 0. 0. 0. 0. 0. 0. 0. 0. 0. 0. 0. 0. 0. 0. 0. 0. 0. 0.]\n",
            " [0. 0. 0. 0. 0. 0. 0. 0. 0. 0. 0. 0. 0. 0. 0. 0. 0. 0. 0. 0.]\n",
            " [0. 0. 0. 0. 0. 0. 0. 0. 0. 0. 0. 0. 0. 0. 0. 0. 0. 0. 0. 0.]\n",
            " [0. 0. 0. 0. 0. 0. 0. 0. 0. 0. 0. 0. 0. 0. 0. 0. 0. 0. 0. 0.]\n",
            " [0. 0. 0. 0. 0. 0. 0. 0. 0. 0. 0. 0. 0. 0. 0. 0. 0. 0. 0. 0.]\n",
            " [0. 0. 0. 0. 0. 0. 0. 0. 0. 0. 0. 0. 0. 0. 0. 0. 0. 0. 0. 0.]\n",
            " [0. 0. 0. 0. 0. 0. 0. 0. 0. 0. 0. 0. 0. 0. 0. 0. 0. 0. 0. 0.]\n",
            " [0. 0. 0. 0. 0. 0. 0. 0. 0. 0. 0. 0. 0. 0. 0. 0. 0. 0. 0. 0.]\n",
            " [0. 0. 0. 0. 0. 0. 0. 0. 0. 0. 0. 0. 0. 0. 0. 0. 0. 0. 0. 0.]\n",
            " [0. 0. 0. 0. 0. 0. 0. 0. 0. 0. 0. 0. 0. 0. 0. 0. 0. 0. 0. 0.]]\n",
            "(15, 20)\n"
          ],
          "name": "stdout"
        }
      ]
    },
    {
      "cell_type": "markdown",
      "metadata": {
        "id": "hCV8yRk01cdX"
      },
      "source": [
        "# **KNN Implemenation**"
      ]
    },
    {
      "cell_type": "code",
      "metadata": {
        "id": "3gqnk9HPJ2KT",
        "outputId": "01b76959-dd79-4beb-cbe1-bf6fe1a194d5",
        "colab": {
          "base_uri": "https://localhost:8080/",
          "height": 826
        }
      },
      "source": [
        "start=time.time()\n",
        "for hell in range(2,17):\n",
        "  start1=time.time()\n",
        "  model =PCA(n_components=hell)\n",
        "  pca = model.fit_transform(std_data)\n",
        "  X_train, X_test, y_train, y_test = train_test_split(pca, target, test_size = 0.7, random_state = 100)\n",
        "  print(\"For band =\",hell)\n",
        "  for i in range(1,21):\n",
        "    knn = KNeighborsClassifier(n_neighbors = i)\n",
        "    knn.fit(X_train,y_train)\n",
        "    y_pred=knn.predict(X_test)\n",
        "    #print(\"Accuracy:\",metrics.accuracy_score(y_test, y_pred),\"for k=\",i)\n",
        "    #print(hell-2,i-1)\n",
        "    acc[hell-2][i-1]=metrics.accuracy_score(y_test, y_pred)\n",
        "  end=time.time()\n",
        "  print(\"Time taken for band\",hell,\" is =\",end-start1,\"sec\")\n",
        "  max=np.argmax(acc[hell-2])\n",
        "  print(\"Max accuracy=\",acc[hell-2][max])\n",
        "end=time.time()\n",
        "print(\"Total Time Taken =\",end-start,\"sec\")\n"
      ],
      "execution_count": null,
      "outputs": [
        {
          "output_type": "stream",
          "text": [
            "For band = 2\n",
            "Time taken for band 2  is = 79.92306017875671 sec\n",
            "Max accuracy= 0.7968039674886348\n",
            "For band = 3\n",
            "Time taken for band 3  is = 86.9319064617157 sec\n",
            "Max accuracy= 0.8039537126325941\n",
            "For band = 4\n",
            "Time taken for band 4  is = 99.75010371208191 sec\n",
            "Max accuracy= 0.811000137760022\n",
            "For band = 5\n",
            "Time taken for band 5  is = 111.32214713096619 sec\n",
            "Max accuracy= 0.8139895302383249\n",
            "For band = 6\n",
            "Time taken for band 6  is = 120.63142943382263 sec\n",
            "Max accuracy= 0.8213665794186527\n",
            "For band = 7\n",
            "Time taken for band 7  is = 131.65396976470947 sec\n",
            "Max accuracy= 0.8222620195619231\n",
            "For band = 8\n",
            "Time taken for band 8  is = 146.1242392063141 sec\n",
            "Max accuracy= 0.8228474996555999\n",
            "For band = 9\n",
            "Time taken for band 9  is = 156.70541524887085 sec\n",
            "Max accuracy= 0.8246383799421408\n",
            "For band = 10\n",
            "Time taken for band 10  is = 171.58517718315125 sec\n",
            "Max accuracy= 0.8258782201405153\n",
            "For band = 11\n",
            "Time taken for band 11  is = 181.84879088401794 sec\n",
            "Max accuracy= 0.8301832208293153\n",
            "For band = 12\n",
            "Time taken for band 12  is = 186.68915152549744 sec\n",
            "Max accuracy= 0.8304862928778068\n",
            "For band = 13\n",
            "Time taken for band 13  is = 202.27644872665405 sec\n",
            "Max accuracy= 0.8303760848601736\n",
            "For band = 14\n",
            "Time taken for band 14  is = 215.20798659324646 sec\n",
            "Max accuracy= 0.8305551728888276\n",
            "For band = 15\n",
            "Time taken for band 15  is = 217.45302510261536 sec\n",
            "Max accuracy= 0.8305965008954401\n",
            "For band = 16\n",
            "Time taken for band 16  is = 229.7007977962494 sec\n",
            "Max accuracy= 0.8309684529549525\n",
            "Total Time Taken = 2337.8201444149017 sec\n"
          ],
          "name": "stdout"
        }
      ]
    },
    {
      "cell_type": "code",
      "metadata": {
        "id": "qT1rdMXMLLf8",
        "outputId": "18cc37b3-8272-4400-aa55-da7e7ce49769",
        "colab": {
          "base_uri": "https://localhost:8080/",
          "height": 1000
        }
      },
      "source": [
        "print(acc.shape)\n",
        "print(acc)"
      ],
      "execution_count": null,
      "outputs": [
        {
          "output_type": "stream",
          "text": [
            "(15, 20)\n",
            "[[0.70431189 0.77454195 0.75867888 0.77965284 0.77585067 0.78665794\n",
            "  0.78338614 0.78950957 0.7882904  0.79205125 0.79095605 0.79321532\n",
            "  0.79240253 0.79423474 0.79441383 0.7953506  0.79492354 0.7959223\n",
            "  0.79600496 0.79680397]\n",
            " [0.73655462 0.78772558 0.77748312 0.79139689 0.78865546 0.79582587\n",
            "  0.79391101 0.7981609  0.7967833  0.79986224 0.79972448 0.80119851\n",
            "  0.80035818 0.80208018 0.8017771  0.8032167  0.8027552  0.80392616\n",
            "  0.80328558 0.80395371]\n",
            " [0.74938008 0.79479956 0.78739496 0.79995867 0.79797493 0.8032167\n",
            "  0.80279653 0.80650916 0.80559994 0.80832071 0.80762502 0.8092988\n",
            "  0.80889241 0.81013914 0.80940212 0.81001515 0.81013914 0.81091748\n",
            "  0.81049043 0.81100014]\n",
            " [0.75793498 0.79990357 0.79310511 0.80404326 0.80148781 0.80805207\n",
            "  0.80657804 0.81058686 0.81004271 0.81175782 0.81142719 0.81302521\n",
            "  0.81207467 0.81308031 0.81254305 0.81381044 0.81292878 0.81356936\n",
            "  0.81314231 0.81398953]\n",
            " [0.76766083 0.80715663 0.80257611 0.81232263 0.81064196 0.81667585\n",
            "  0.81541535 0.81925885 0.81858383 0.82004408 0.81993388 0.82091886\n",
            "  0.82009919 0.82132525 0.82071911 0.82136658 0.82050558 0.82123571\n",
            "  0.82053313 0.82131836]\n",
            " [0.76972724 0.80880287 0.80439454 0.81436148 0.81362447 0.81852183\n",
            "  0.81746108 0.82032649 0.81931396 0.82162144 0.82042981 0.82220003\n",
            "  0.82123571 0.82206227 0.82109106 0.82226202 0.82149745 0.8222138\n",
            "  0.8211806  0.82173164]\n",
            " [0.7704918  0.80869266 0.8049387  0.81518804 0.81400331 0.81839785\n",
            "  0.81763328 0.82068467 0.82007852 0.82146301 0.8201474  0.82178675\n",
            "  0.82158011 0.82268908 0.82228957 0.8228475  0.82179364 0.82245488\n",
            "  0.82192451 0.82276484]\n",
            " [0.77329522 0.81095881 0.80677091 0.81633145 0.81592506 0.82048492\n",
            "  0.8194035  0.82208982 0.82144235 0.82342609 0.82243422 0.82358452\n",
            "  0.82289572 0.82417688 0.8235914  0.82412178 0.82374983 0.82455572\n",
            "  0.82410112 0.82463838]\n",
            " [0.77560959 0.81166139 0.80823805 0.81828075 0.81718556 0.8218143\n",
            "  0.82065712 0.82308858 0.82265464 0.82394269 0.82314368 0.82483124\n",
            "  0.8240529  0.82552693 0.82516187 0.82571291 0.82509299 0.82585756\n",
            "  0.82540984 0.82587822]\n",
            " [0.78305552 0.81642788 0.81387243 0.82337099 0.82222069 0.82660146\n",
            "  0.82580245 0.82774487 0.82711117 0.82852321 0.82846811 0.82990081\n",
            "  0.82929467 0.83018322 0.82937044 0.82988704 0.82926712 0.82940488\n",
            "  0.82861964 0.82928089]\n",
            " [0.78385453 0.81719934 0.81462323 0.82351564 0.82217936 0.82660146\n",
            "  0.82558204 0.82795151 0.82784819 0.8296804  0.82888139 0.82999724\n",
            "  0.8295082  0.83034164 0.83005924 0.83048629 0.83038986 0.83014878\n",
            "  0.82986637 0.83003857]\n",
            " [0.78390963 0.81745419 0.8148092  0.82357074 0.82277173 0.82650503\n",
            "  0.82557515 0.82854388 0.82811682 0.82940488 0.82886761 0.83018322\n",
            "  0.82934288 0.83010745 0.82993525 0.83037608 0.82965284 0.83026588\n",
            "  0.82975616 0.83010056]\n",
            " [0.78370299 0.81781237 0.8144097  0.82346742 0.82224824 0.82653947\n",
            "  0.82596776 0.8287023  0.82817881 0.82930156 0.82871608 0.83043119\n",
            "  0.82963218 0.83055517 0.83010056 0.83054828 0.82983193 0.83046563\n",
            "  0.82961152 0.83005924]\n",
            " [0.78318639 0.81695826 0.81362447 0.82337788 0.82163521 0.82670478\n",
            "  0.82587822 0.82875052 0.82786196 0.82938421 0.82886072 0.8305965\n",
            "  0.82930844 0.83026588 0.82954264 0.83051384 0.82957019 0.83038297\n",
            "  0.82999724 0.82983193]\n",
            " [0.78375121 0.81766083 0.81458879 0.82374983 0.82195895 0.82701474\n",
            "  0.8264086  0.82910869 0.82833035 0.82977683 0.82941865 0.83068604\n",
            "  0.82949442 0.83076181 0.82984571 0.83096845 0.82974928 0.83034164\n",
            "  0.83019011 0.83044496]]\n"
          ],
          "name": "stdout"
        }
      ]
    },
    {
      "cell_type": "code",
      "metadata": {
        "id": "owC1kVdAQ-bh",
        "outputId": "cb1f3e66-a639-49c1-a496-50f6f410e6b7",
        "colab": {
          "base_uri": "https://localhost:8080/",
          "height": 265
        }
      },
      "source": [
        "for i in range(0,14):\n",
        "  plt.plot(acc[i])\n",
        "plt.show()"
      ],
      "execution_count": null,
      "outputs": [
        {
          "output_type": "display_data",
          "data": {
            "image/png": "[encoded data removed]",
            "text/plain": [
              "<Figure size 432x288 with 1 Axes>"
            ]
          },
          "metadata": {
            "tags": []
          }
        }
      ]
    },
    {
      "cell_type": "code",
      "metadata": {
        "id": "iVBVRa62ShJD",
        "outputId": "1a4a92c1-7e64-4685-beef-b2934e5adef6",
        "colab": {
          "base_uri": "https://localhost:8080/",
          "height": 34
        }
      },
      "source": [
        "temp=band=k=0\n",
        "for i in range(0,14):\n",
        "  for j in range(0,20):\n",
        "    if temp<acc[i][j]:\n",
        "      temp=acc[i][j]\n",
        "      band=i+2\n",
        "      k=j+1\n",
        "print(\"BAND = \",band,\"K-Value=\",k,\"MAX ACCURACY=\",acc[band-2][k-1])"
      ],
      "execution_count": null,
      "outputs": [
        {
          "output_type": "stream",
          "text": [
            "BAND =  15 K-Value= 12 MAX ACCURACY= 0.8305965008954401\n"
          ],
          "name": "stdout"
        }
      ]
    },
    {
      "cell_type": "code",
      "metadata": {
        "id": "Xm2RcNsEX9R7",
        "outputId": "2d7405aa-3828-422f-d6af-5ed1934966c1",
        "colab": {
          "base_uri": "https://localhost:8080/",
          "height": 552
        }
      },
      "source": [
        "model =PCA(n_components=band)\n",
        "pca = model.fit_transform(std_data)\n",
        "X_train, X_test, y_train, y_test = train_test_split(pca, target, test_size = 0.7, random_state = 100)\n",
        "knn = KNeighborsClassifier(n_neighbors = k)\n",
        "knn.fit(X_train,y_train)\n",
        "y_pred=knn.predict(X_test)\n",
        "\n",
        "print(\"Accuracy:\",metrics.accuracy_score(y_test, y_pred))\n",
        "print(\"KAppa Coeefecient:\",metrics.cohen_kappa_score(y_test, y_pred))\n",
        "print(\"Average Time:\",(end-start)/320)\n",
        "\n",
        "output=knn.predict(pca)\n",
        "output=np.reshape(output,(340,610))\n",
        "gt=np.reshape(target,(340,610))\n",
        "from matplotlib.pyplot import imshow, show, colorbar\n",
        "imshow(output)\n",
        "colorbar()\n",
        "show()\n",
        "imshow(gt)\n",
        "colorbar()\n",
        "show()"
      ],
      "execution_count": null,
      "outputs": [
        {
          "output_type": "stream",
          "text": [
            "Accuracy: 0.8305276208844193\n",
            "KAppa Coeefecient: 0.4454356737480094\n",
            "Average Time: 7.305687951296568\n"
          ],
          "name": "stdout"
        },
        {
          "output_type": "display_data",
          "data": {
            "image/png": "[encoded data removed]",
            "text/plain": [
              "<Figure size 432x288 with 2 Axes>"
            ]
          },
          "metadata": {
            "tags": []
          }
        },
        {
          "output_type": "display_data",
          "data": {
            "image/png": "[encoded data removed]",
            "text/plain": [
              "<Figure size 432x288 with 2 Axes>"
            ]
          },
          "metadata": {
            "tags": []
          }
        }
      ]
    },
    {
      "cell_type": "code",
      "metadata": {
        "id": "8Y1eSYJ0HRoC",
        "outputId": "d1eb023a-20c8-4d42-efc8-0ff4af17a644",
        "colab": {
          "base_uri": "https://localhost:8080/",
          "height": 70
        }
      },
      "source": [
        "from sklearn.model_selection import cross_val_score\n",
        "knn = KNeighborsClassifier(n_neighbors = k)\n",
        "scores = cross_val_score(knn, pca, target, cv=10, scoring='accuracy')\n",
        "print(scores)\n",
        "print(scores.mean())"
      ],
      "execution_count": null,
      "outputs": [
        {
          "output_type": "stream",
          "text": [
            "[0.77565092 0.80048216 0.79180328 0.79040501 0.79513018 0.79329797\n",
            " 0.82574735 0.83269045 0.81600771 0.80159113]\n",
            "0.8022806171648987\n"
          ],
          "name": "stdout"
        }
      ]
    },
    {
      "cell_type": "markdown",
      "metadata": {
        "id": "zXiCwkNX1sMx"
      },
      "source": [
        "# **SVM Implementation**"
      ]
    },
    {
      "cell_type": "code",
      "metadata": {
        "id": "ZlbSPFvI2r9l"
      },
      "source": [
        "from sklearn import svm\n",
        "acs=np.zeros(16)"
      ],
      "execution_count": null,
      "outputs": []
    },
    {
      "cell_type": "code",
      "metadata": {
        "id": "o08bcdf91wMF",
        "outputId": "a39763ac-6786-4907-af36-9964ff899ead",
        "colab": {
          "base_uri": "https://localhost:8080/",
          "height": 298
        }
      },
      "source": [
        "start=time.time()\n",
        "for hell in range(2,17):\n",
        "  start1=time.time()\n",
        "  model =PCA(n_components=hell)\n",
        "  pca = model.fit_transform(std_data)\n",
        "  X_train, X_test, y_train, y_test = train_test_split(pca, target, test_size = 0.7, random_state = 100)\n",
        "  clf = svm.SVC(C=175,kernel='rbf',gamma=0.75)\n",
        "  clf.fit(X_train, y_train)\n",
        "  y_pred = clf.predict(X_test)\n",
        "  acs[hell-2]=metrics.accuracy_score(y_test, y_pred)\n",
        "  end=time.time()\n",
        "  print(\"Time taken for band\",hell,\" is =\",end-start1,\"sec\",\"Accuracy=\",acs[hell-2])\n",
        "end=time.time()\n",
        "print(\"Total Time Taken =\",end-start,\"sec\")"
      ],
      "execution_count": null,
      "outputs": [
        {
          "output_type": "stream",
          "text": [
            "Time taken for band 2  is = 1050.8346011638641 sec Accuracy= 0.7955021352803416\n",
            "Time taken for band 3  is = 952.6069839000702 sec Accuracy= 0.7990701198512192\n",
            "Time taken for band 4  is = 822.9664463996887 sec Accuracy= 0.7996211599393855\n",
            "Time taken for band 5  is = 637.6305916309357 sec Accuracy= 0.7998829039812646\n",
            "Time taken for band 6  is = 512.6363525390625 sec Accuracy= 0.8047802727648437\n",
            "Time taken for band 7  is = 470.3677978515625 sec Accuracy= 0.8069982091197134\n",
            "Time taken for band 8  is = 441.2204670906067 sec Accuracy= 0.8096569775451165\n",
            "Time taken for band 9  is = 382.6168866157532 sec Accuracy= 0.8160972585755614\n",
            "Time taken for band 10  is = 292.3284373283386 sec Accuracy= 0.8169031547045048\n",
            "Time taken for band 11  is = 272.50437688827515 sec Accuracy= 0.8251274280203885\n",
            "Time taken for band 12  is = 271.32670497894287 sec Accuracy= 0.8262777242044359\n",
            "Time taken for band 13  is = 276.19984006881714 sec Accuracy= 0.8263948202231712\n",
            "Time taken for band 14  is = 281.4200451374054 sec Accuracy= 0.827235156357625\n",
            "Time taken for band 15  is = 288.3317255973816 sec Accuracy= 0.8272695963631355\n",
            "Time taken for band 16  is = 291.4392657279968 sec Accuracy= 0.829983468797355\n",
            "Total Time Taken = 7244.450171709061 sec\n"
          ],
          "name": "stdout"
        }
      ]
    },
    {
      "cell_type": "code",
      "metadata": {
        "id": "b0QxPI1X-t39",
        "outputId": "8001e032-034d-4188-9974-affc107baa4e",
        "colab": {
          "base_uri": "https://localhost:8080/",
          "height": 87
        }
      },
      "source": [
        "max=np.argmax(acs)\n",
        "print(max+2)\n",
        "model =PCA(n_components=max+2)\n",
        "pca = model.fit_transform(std_data)\n",
        "X_train, X_test, y_train, y_test = train_test_split(pca, target, test_size = 0.7, random_state = 100)\n",
        "clf = svm.SVC(C=175,kernel='rbf',gamma=0.75)\n",
        "clf.fit(X_train, y_train)\n",
        "y_pred = clf.predict(X_test)\n",
        "print(\"Accuracy=\",metrics.accuracy_score(y_test, y_pred))\n",
        "print(\"Kappa Coeefeicient=\",cohen_kappa_score(y_test, y_pred))\n",
        "print(\"Average Time:\",(end-start)/14)"
      ],
      "execution_count": null,
      "outputs": [
        {
          "output_type": "stream",
          "text": [
            "16\n",
            "Accuracy= 0.8299283647885384\n",
            "Kappa Coeefeicient= 0.3607022321091027\n",
            "Average Time: 517.4607265506472\n"
          ],
          "name": "stdout"
        }
      ]
    },
    {
      "cell_type": "code",
      "metadata": {
        "id": "YMG4Dv46_DHk",
        "outputId": "a3d3f026-f12e-4bea-cde7-87e2d00a5698",
        "colab": {
          "base_uri": "https://localhost:8080/",
          "height": 517
        }
      },
      "source": [
        "model =PCA(n_components=max+2)\n",
        "pca = model.fit_transform(std_data)\n",
        "X_train, X_test, y_train, y_test = train_test_split(pca, target, test_size = 0.7, random_state = 100)\n",
        "clf = svm.SVC(C=175,kernel='rbf',gamma=0.75)\n",
        "clf.fit(X_train, y_train)\n",
        "output = clf.predict(pca)\n",
        "ans=metrics.accuracy_score(output,target)\n",
        "print(ans)\n",
        "output=np.reshape(output,(340,610))\n",
        "gt=np.reshape(target,(340,610))\n",
        "from matplotlib.pyplot import imshow, show, colorbar\n",
        "imshow(output)\n",
        "colorbar()\n",
        "show()\n",
        "imshow(gt)\n",
        "colorbar()\n",
        "show()"
      ],
      "execution_count": null,
      "outputs": [
        {
          "output_type": "stream",
          "text": [
            "0.8303326904532304\n"
          ],
          "name": "stdout"
        },
        {
          "output_type": "display_data",
          "data": {
            "image/png": "[encoded data removed]",
            "text/plain": [
              "<Figure size 432x288 with 2 Axes>"
            ]
          },
          "metadata": {
            "tags": []
          }
        },
        {
          "output_type": "display_data",
          "data": {
            "image/png": "[encoded data removed]",
            "text/plain": [
              "<Figure size 432x288 with 2 Axes>"
            ]
          },
          "metadata": {
            "tags": []
          }
        }
      ]
    },
    {
      "cell_type": "code",
      "metadata": {
        "id": "H1jc3f4tBHeX",
        "outputId": "e9455dde-0e18-45a4-ade7-e7f82d9e0c53",
        "colab": {
          "base_uri": "https://localhost:8080/",
          "height": 385
        }
      },
      "source": [
        "from sklearn.model_selection import cross_val_score\n",
        "svm = svm.SVC(C=175,kernel='rbf',gamma=0.75)\n",
        "scores = cross_val_score(svm, pca, target, cv=10, scoring='accuracy')\n",
        "print(scores)\n",
        "print(scores.mean())"
      ],
      "execution_count": null,
      "outputs": [
        {
          "output_type": "error",
          "ename": "KeyboardInterrupt",
          "evalue": "ignored",
          "traceback": [
            "\u001b[0;31m---------------------------------------------------------------------------\u001b[0m",
            "\u001b[0;31mKeyboardInterrupt\u001b[0m                         Traceback (most recent call last)",
            "\u001b[0;32m<ipython-input-21-2e80f76f67ca>\u001b[0m in \u001b[0;36m<module>\u001b[0;34m()\u001b[0m\n\u001b[1;32m      1\u001b[0m \u001b[0;32mfrom\u001b[0m \u001b[0msklearn\u001b[0m\u001b[0;34m.\u001b[0m\u001b[0mmodel_selection\u001b[0m \u001b[0;32mimport\u001b[0m \u001b[0mcross_val_score\u001b[0m\u001b[0;34m\u001b[0m\u001b[0;34m\u001b[0m\u001b[0m\n\u001b[1;32m      2\u001b[0m \u001b[0msvm\u001b[0m \u001b[0;34m=\u001b[0m \u001b[0msvm\u001b[0m\u001b[0;34m.\u001b[0m\u001b[0mSVC\u001b[0m\u001b[0;34m(\u001b[0m\u001b[0mC\u001b[0m\u001b[0;34m=\u001b[0m\u001b[0;36m175\u001b[0m\u001b[0;34m,\u001b[0m\u001b[0mkernel\u001b[0m\u001b[0;34m=\u001b[0m\u001b[0;34m'rbf'\u001b[0m\u001b[0;34m,\u001b[0m\u001b[0mgamma\u001b[0m\u001b[0;34m=\u001b[0m\u001b[0;36m0.75\u001b[0m\u001b[0;34m)\u001b[0m\u001b[0;34m\u001b[0m\u001b[0;34m\u001b[0m\u001b[0m\n\u001b[0;32m----> 3\u001b[0;31m \u001b[0mscores\u001b[0m \u001b[0;34m=\u001b[0m \u001b[0mcross_val_score\u001b[0m\u001b[0;34m(\u001b[0m\u001b[0msvm\u001b[0m\u001b[0;34m,\u001b[0m \u001b[0mpca\u001b[0m\u001b[0;34m,\u001b[0m \u001b[0mtarget\u001b[0m\u001b[0;34m,\u001b[0m \u001b[0mcv\u001b[0m\u001b[0;34m=\u001b[0m\u001b[0;36m10\u001b[0m\u001b[0;34m,\u001b[0m \u001b[0mscoring\u001b[0m\u001b[0;34m=\u001b[0m\u001b[0;34m'accuracy'\u001b[0m\u001b[0;34m)\u001b[0m\u001b[0;34m\u001b[0m\u001b[0;34m\u001b[0m\u001b[0m\n\u001b[0m\u001b[1;32m      4\u001b[0m \u001b[0mprint\u001b[0m\u001b[0;34m(\u001b[0m\u001b[0mscores\u001b[0m\u001b[0;34m)\u001b[0m\u001b[0;34m\u001b[0m\u001b[0;34m\u001b[0m\u001b[0m\n\u001b[1;32m      5\u001b[0m \u001b[0mprint\u001b[0m\u001b[0;34m(\u001b[0m\u001b[0mscores\u001b[0m\u001b[0;34m.\u001b[0m\u001b[0mmean\u001b[0m\u001b[0;34m(\u001b[0m\u001b[0;34m)\u001b[0m\u001b[0;34m)\u001b[0m\u001b[0;34m\u001b[0m\u001b[0;34m\u001b[0m\u001b[0m\n",
            "\u001b[0;32m/usr/local/lib/python3.6/dist-packages/sklearn/model_selection/_validation.py\u001b[0m in \u001b[0;36mcross_val_score\u001b[0;34m(estimator, X, y, groups, scoring, cv, n_jobs, verbose, fit_params, pre_dispatch, error_score)\u001b[0m\n\u001b[1;32m    388\u001b[0m                                 \u001b[0mfit_params\u001b[0m\u001b[0;34m=\u001b[0m\u001b[0mfit_params\u001b[0m\u001b[0;34m,\u001b[0m\u001b[0;34m\u001b[0m\u001b[0;34m\u001b[0m\u001b[0m\n\u001b[1;32m    389\u001b[0m                                 \u001b[0mpre_dispatch\u001b[0m\u001b[0;34m=\u001b[0m\u001b[0mpre_dispatch\u001b[0m\u001b[0;34m,\u001b[0m\u001b[0;34m\u001b[0m\u001b[0;34m\u001b[0m\u001b[0m\n\u001b[0;32m--> 390\u001b[0;31m                                 error_score=error_score)\n\u001b[0m\u001b[1;32m    391\u001b[0m     \u001b[0;32mreturn\u001b[0m \u001b[0mcv_results\u001b[0m\u001b[0;34m[\u001b[0m\u001b[0;34m'test_score'\u001b[0m\u001b[0;34m]\u001b[0m\u001b[0;34m\u001b[0m\u001b[0;34m\u001b[0m\u001b[0m\n\u001b[1;32m    392\u001b[0m \u001b[0;34m\u001b[0m\u001b[0m\n",
            "\u001b[0;32m/usr/local/lib/python3.6/dist-packages/sklearn/model_selection/_validation.py\u001b[0m in \u001b[0;36mcross_validate\u001b[0;34m(estimator, X, y, groups, scoring, cv, n_jobs, verbose, fit_params, pre_dispatch, return_train_score, return_estimator, error_score)\u001b[0m\n\u001b[1;32m    234\u001b[0m             \u001b[0mreturn_times\u001b[0m\u001b[0;34m=\u001b[0m\u001b[0;32mTrue\u001b[0m\u001b[0;34m,\u001b[0m \u001b[0mreturn_estimator\u001b[0m\u001b[0;34m=\u001b[0m\u001b[0mreturn_estimator\u001b[0m\u001b[0;34m,\u001b[0m\u001b[0;34m\u001b[0m\u001b[0;34m\u001b[0m\u001b[0m\n\u001b[1;32m    235\u001b[0m             error_score=error_score)\n\u001b[0;32m--> 236\u001b[0;31m         for train, test in cv.split(X, y, groups))\n\u001b[0m\u001b[1;32m    237\u001b[0m \u001b[0;34m\u001b[0m\u001b[0m\n\u001b[1;32m    238\u001b[0m     \u001b[0mzipped_scores\u001b[0m \u001b[0;34m=\u001b[0m \u001b[0mlist\u001b[0m\u001b[0;34m(\u001b[0m\u001b[0mzip\u001b[0m\u001b[0;34m(\u001b[0m\u001b[0;34m*\u001b[0m\u001b[0mscores\u001b[0m\u001b[0;34m)\u001b[0m\u001b[0;34m)\u001b[0m\u001b[0;34m\u001b[0m\u001b[0;34m\u001b[0m\u001b[0m\n",
            "\u001b[0;32m/usr/local/lib/python3.6/dist-packages/joblib/parallel.py\u001b[0m in \u001b[0;36m__call__\u001b[0;34m(self, iterable)\u001b[0m\n\u001b[1;32m   1005\u001b[0m                 \u001b[0mself\u001b[0m\u001b[0;34m.\u001b[0m\u001b[0m_iterating\u001b[0m \u001b[0;34m=\u001b[0m \u001b[0mself\u001b[0m\u001b[0;34m.\u001b[0m\u001b[0m_original_iterator\u001b[0m \u001b[0;32mis\u001b[0m \u001b[0;32mnot\u001b[0m \u001b[0;32mNone\u001b[0m\u001b[0;34m\u001b[0m\u001b[0;34m\u001b[0m\u001b[0m\n\u001b[1;32m   1006\u001b[0m \u001b[0;34m\u001b[0m\u001b[0m\n\u001b[0;32m-> 1007\u001b[0;31m             \u001b[0;32mwhile\u001b[0m \u001b[0mself\u001b[0m\u001b[0;34m.\u001b[0m\u001b[0mdispatch_one_batch\u001b[0m\u001b[0;34m(\u001b[0m\u001b[0miterator\u001b[0m\u001b[0;34m)\u001b[0m\u001b[0;34m:\u001b[0m\u001b[0;34m\u001b[0m\u001b[0;34m\u001b[0m\u001b[0m\n\u001b[0m\u001b[1;32m   1008\u001b[0m                 \u001b[0;32mpass\u001b[0m\u001b[0;34m\u001b[0m\u001b[0;34m\u001b[0m\u001b[0m\n\u001b[1;32m   1009\u001b[0m \u001b[0;34m\u001b[0m\u001b[0m\n",
            "\u001b[0;32m/usr/local/lib/python3.6/dist-packages/joblib/parallel.py\u001b[0m in \u001b[0;36mdispatch_one_batch\u001b[0;34m(self, iterator)\u001b[0m\n\u001b[1;32m    833\u001b[0m                 \u001b[0;32mreturn\u001b[0m \u001b[0;32mFalse\u001b[0m\u001b[0;34m\u001b[0m\u001b[0;34m\u001b[0m\u001b[0m\n\u001b[1;32m    834\u001b[0m             \u001b[0;32melse\u001b[0m\u001b[0;34m:\u001b[0m\u001b[0;34m\u001b[0m\u001b[0;34m\u001b[0m\u001b[0m\n\u001b[0;32m--> 835\u001b[0;31m                 \u001b[0mself\u001b[0m\u001b[0;34m.\u001b[0m\u001b[0m_dispatch\u001b[0m\u001b[0;34m(\u001b[0m\u001b[0mtasks\u001b[0m\u001b[0;34m)\u001b[0m\u001b[0;34m\u001b[0m\u001b[0;34m\u001b[0m\u001b[0m\n\u001b[0m\u001b[1;32m    836\u001b[0m                 \u001b[0;32mreturn\u001b[0m \u001b[0;32mTrue\u001b[0m\u001b[0;34m\u001b[0m\u001b[0;34m\u001b[0m\u001b[0m\n\u001b[1;32m    837\u001b[0m \u001b[0;34m\u001b[0m\u001b[0m\n",
            "\u001b[0;32m/usr/local/lib/python3.6/dist-packages/joblib/parallel.py\u001b[0m in \u001b[0;36m_dispatch\u001b[0;34m(self, batch)\u001b[0m\n\u001b[1;32m    752\u001b[0m         \u001b[0;32mwith\u001b[0m \u001b[0mself\u001b[0m\u001b[0;34m.\u001b[0m\u001b[0m_lock\u001b[0m\u001b[0;34m:\u001b[0m\u001b[0;34m\u001b[0m\u001b[0;34m\u001b[0m\u001b[0m\n\u001b[1;32m    753\u001b[0m             \u001b[0mjob_idx\u001b[0m \u001b[0;34m=\u001b[0m \u001b[0mlen\u001b[0m\u001b[0;34m(\u001b[0m\u001b[0mself\u001b[0m\u001b[0;34m.\u001b[0m\u001b[0m_jobs\u001b[0m\u001b[0;34m)\u001b[0m\u001b[0;34m\u001b[0m\u001b[0;34m\u001b[0m\u001b[0m\n\u001b[0;32m--> 754\u001b[0;31m             \u001b[0mjob\u001b[0m \u001b[0;34m=\u001b[0m \u001b[0mself\u001b[0m\u001b[0;34m.\u001b[0m\u001b[0m_backend\u001b[0m\u001b[0;34m.\u001b[0m\u001b[0mapply_async\u001b[0m\u001b[0;34m(\u001b[0m\u001b[0mbatch\u001b[0m\u001b[0;34m,\u001b[0m \u001b[0mcallback\u001b[0m\u001b[0;34m=\u001b[0m\u001b[0mcb\u001b[0m\u001b[0;34m)\u001b[0m\u001b[0;34m\u001b[0m\u001b[0;34m\u001b[0m\u001b[0m\n\u001b[0m\u001b[1;32m    755\u001b[0m             \u001b[0;31m# A job can complete so quickly than its callback is\u001b[0m\u001b[0;34m\u001b[0m\u001b[0;34m\u001b[0m\u001b[0;34m\u001b[0m\u001b[0m\n\u001b[1;32m    756\u001b[0m             \u001b[0;31m# called before we get here, causing self._jobs to\u001b[0m\u001b[0;34m\u001b[0m\u001b[0;34m\u001b[0m\u001b[0;34m\u001b[0m\u001b[0m\n",
            "\u001b[0;32m/usr/local/lib/python3.6/dist-packages/joblib/_parallel_backends.py\u001b[0m in \u001b[0;36mapply_async\u001b[0;34m(self, func, callback)\u001b[0m\n\u001b[1;32m    207\u001b[0m     \u001b[0;32mdef\u001b[0m \u001b[0mapply_async\u001b[0m\u001b[0;34m(\u001b[0m\u001b[0mself\u001b[0m\u001b[0;34m,\u001b[0m \u001b[0mfunc\u001b[0m\u001b[0;34m,\u001b[0m \u001b[0mcallback\u001b[0m\u001b[0;34m=\u001b[0m\u001b[0;32mNone\u001b[0m\u001b[0;34m)\u001b[0m\u001b[0;34m:\u001b[0m\u001b[0;34m\u001b[0m\u001b[0;34m\u001b[0m\u001b[0m\n\u001b[1;32m    208\u001b[0m         \u001b[0;34m\"\"\"Schedule a func to be run\"\"\"\u001b[0m\u001b[0;34m\u001b[0m\u001b[0;34m\u001b[0m\u001b[0m\n\u001b[0;32m--> 209\u001b[0;31m         \u001b[0mresult\u001b[0m \u001b[0;34m=\u001b[0m \u001b[0mImmediateResult\u001b[0m\u001b[0;34m(\u001b[0m\u001b[0mfunc\u001b[0m\u001b[0;34m)\u001b[0m\u001b[0;34m\u001b[0m\u001b[0;34m\u001b[0m\u001b[0m\n\u001b[0m\u001b[1;32m    210\u001b[0m         \u001b[0;32mif\u001b[0m \u001b[0mcallback\u001b[0m\u001b[0;34m:\u001b[0m\u001b[0;34m\u001b[0m\u001b[0;34m\u001b[0m\u001b[0m\n\u001b[1;32m    211\u001b[0m             \u001b[0mcallback\u001b[0m\u001b[0;34m(\u001b[0m\u001b[0mresult\u001b[0m\u001b[0;34m)\u001b[0m\u001b[0;34m\u001b[0m\u001b[0;34m\u001b[0m\u001b[0m\n",
            "\u001b[0;32m/usr/local/lib/python3.6/dist-packages/joblib/_parallel_backends.py\u001b[0m in \u001b[0;36m__init__\u001b[0;34m(self, batch)\u001b[0m\n\u001b[1;32m    588\u001b[0m         \u001b[0;31m# Don't delay the application, to avoid keeping the input\u001b[0m\u001b[0;34m\u001b[0m\u001b[0;34m\u001b[0m\u001b[0;34m\u001b[0m\u001b[0m\n\u001b[1;32m    589\u001b[0m         \u001b[0;31m# arguments in memory\u001b[0m\u001b[0;34m\u001b[0m\u001b[0;34m\u001b[0m\u001b[0;34m\u001b[0m\u001b[0m\n\u001b[0;32m--> 590\u001b[0;31m         \u001b[0mself\u001b[0m\u001b[0;34m.\u001b[0m\u001b[0mresults\u001b[0m \u001b[0;34m=\u001b[0m \u001b[0mbatch\u001b[0m\u001b[0;34m(\u001b[0m\u001b[0;34m)\u001b[0m\u001b[0;34m\u001b[0m\u001b[0;34m\u001b[0m\u001b[0m\n\u001b[0m\u001b[1;32m    591\u001b[0m \u001b[0;34m\u001b[0m\u001b[0m\n\u001b[1;32m    592\u001b[0m     \u001b[0;32mdef\u001b[0m \u001b[0mget\u001b[0m\u001b[0;34m(\u001b[0m\u001b[0mself\u001b[0m\u001b[0;34m)\u001b[0m\u001b[0;34m:\u001b[0m\u001b[0;34m\u001b[0m\u001b[0;34m\u001b[0m\u001b[0m\n",
            "\u001b[0;32m/usr/local/lib/python3.6/dist-packages/joblib/parallel.py\u001b[0m in \u001b[0;36m__call__\u001b[0;34m(self)\u001b[0m\n\u001b[1;32m    254\u001b[0m         \u001b[0;32mwith\u001b[0m \u001b[0mparallel_backend\u001b[0m\u001b[0;34m(\u001b[0m\u001b[0mself\u001b[0m\u001b[0;34m.\u001b[0m\u001b[0m_backend\u001b[0m\u001b[0;34m,\u001b[0m \u001b[0mn_jobs\u001b[0m\u001b[0;34m=\u001b[0m\u001b[0mself\u001b[0m\u001b[0;34m.\u001b[0m\u001b[0m_n_jobs\u001b[0m\u001b[0;34m)\u001b[0m\u001b[0;34m:\u001b[0m\u001b[0;34m\u001b[0m\u001b[0;34m\u001b[0m\u001b[0m\n\u001b[1;32m    255\u001b[0m             return [func(*args, **kwargs)\n\u001b[0;32m--> 256\u001b[0;31m                     for func, args, kwargs in self.items]\n\u001b[0m\u001b[1;32m    257\u001b[0m \u001b[0;34m\u001b[0m\u001b[0m\n\u001b[1;32m    258\u001b[0m     \u001b[0;32mdef\u001b[0m \u001b[0m__len__\u001b[0m\u001b[0;34m(\u001b[0m\u001b[0mself\u001b[0m\u001b[0;34m)\u001b[0m\u001b[0;34m:\u001b[0m\u001b[0;34m\u001b[0m\u001b[0;34m\u001b[0m\u001b[0m\n",
            "\u001b[0;32m/usr/local/lib/python3.6/dist-packages/joblib/parallel.py\u001b[0m in \u001b[0;36m<listcomp>\u001b[0;34m(.0)\u001b[0m\n\u001b[1;32m    254\u001b[0m         \u001b[0;32mwith\u001b[0m \u001b[0mparallel_backend\u001b[0m\u001b[0;34m(\u001b[0m\u001b[0mself\u001b[0m\u001b[0;34m.\u001b[0m\u001b[0m_backend\u001b[0m\u001b[0;34m,\u001b[0m \u001b[0mn_jobs\u001b[0m\u001b[0;34m=\u001b[0m\u001b[0mself\u001b[0m\u001b[0;34m.\u001b[0m\u001b[0m_n_jobs\u001b[0m\u001b[0;34m)\u001b[0m\u001b[0;34m:\u001b[0m\u001b[0;34m\u001b[0m\u001b[0;34m\u001b[0m\u001b[0m\n\u001b[1;32m    255\u001b[0m             return [func(*args, **kwargs)\n\u001b[0;32m--> 256\u001b[0;31m                     for func, args, kwargs in self.items]\n\u001b[0m\u001b[1;32m    257\u001b[0m \u001b[0;34m\u001b[0m\u001b[0m\n\u001b[1;32m    258\u001b[0m     \u001b[0;32mdef\u001b[0m \u001b[0m__len__\u001b[0m\u001b[0;34m(\u001b[0m\u001b[0mself\u001b[0m\u001b[0;34m)\u001b[0m\u001b[0;34m:\u001b[0m\u001b[0;34m\u001b[0m\u001b[0;34m\u001b[0m\u001b[0m\n",
            "\u001b[0;32m/usr/local/lib/python3.6/dist-packages/sklearn/model_selection/_validation.py\u001b[0m in \u001b[0;36m_fit_and_score\u001b[0;34m(estimator, X, y, scorer, train, test, verbose, parameters, fit_params, return_train_score, return_parameters, return_n_test_samples, return_times, return_estimator, error_score)\u001b[0m\n\u001b[1;32m    513\u001b[0m             \u001b[0mestimator\u001b[0m\u001b[0;34m.\u001b[0m\u001b[0mfit\u001b[0m\u001b[0;34m(\u001b[0m\u001b[0mX_train\u001b[0m\u001b[0;34m,\u001b[0m \u001b[0;34m**\u001b[0m\u001b[0mfit_params\u001b[0m\u001b[0;34m)\u001b[0m\u001b[0;34m\u001b[0m\u001b[0;34m\u001b[0m\u001b[0m\n\u001b[1;32m    514\u001b[0m         \u001b[0;32melse\u001b[0m\u001b[0;34m:\u001b[0m\u001b[0;34m\u001b[0m\u001b[0;34m\u001b[0m\u001b[0m\n\u001b[0;32m--> 515\u001b[0;31m             \u001b[0mestimator\u001b[0m\u001b[0;34m.\u001b[0m\u001b[0mfit\u001b[0m\u001b[0;34m(\u001b[0m\u001b[0mX_train\u001b[0m\u001b[0;34m,\u001b[0m \u001b[0my_train\u001b[0m\u001b[0;34m,\u001b[0m \u001b[0;34m**\u001b[0m\u001b[0mfit_params\u001b[0m\u001b[0;34m)\u001b[0m\u001b[0;34m\u001b[0m\u001b[0;34m\u001b[0m\u001b[0m\n\u001b[0m\u001b[1;32m    516\u001b[0m \u001b[0;34m\u001b[0m\u001b[0m\n\u001b[1;32m    517\u001b[0m     \u001b[0;32mexcept\u001b[0m \u001b[0mException\u001b[0m \u001b[0;32mas\u001b[0m \u001b[0me\u001b[0m\u001b[0;34m:\u001b[0m\u001b[0;34m\u001b[0m\u001b[0;34m\u001b[0m\u001b[0m\n",
            "\u001b[0;32m/usr/local/lib/python3.6/dist-packages/sklearn/svm/_base.py\u001b[0m in \u001b[0;36mfit\u001b[0;34m(self, X, y, sample_weight)\u001b[0m\n\u001b[1;32m    197\u001b[0m \u001b[0;34m\u001b[0m\u001b[0m\n\u001b[1;32m    198\u001b[0m         \u001b[0mseed\u001b[0m \u001b[0;34m=\u001b[0m \u001b[0mrnd\u001b[0m\u001b[0;34m.\u001b[0m\u001b[0mrandint\u001b[0m\u001b[0;34m(\u001b[0m\u001b[0mnp\u001b[0m\u001b[0;34m.\u001b[0m\u001b[0miinfo\u001b[0m\u001b[0;34m(\u001b[0m\u001b[0;34m'i'\u001b[0m\u001b[0;34m)\u001b[0m\u001b[0;34m.\u001b[0m\u001b[0mmax\u001b[0m\u001b[0;34m)\u001b[0m\u001b[0;34m\u001b[0m\u001b[0;34m\u001b[0m\u001b[0m\n\u001b[0;32m--> 199\u001b[0;31m         \u001b[0mfit\u001b[0m\u001b[0;34m(\u001b[0m\u001b[0mX\u001b[0m\u001b[0;34m,\u001b[0m \u001b[0my\u001b[0m\u001b[0;34m,\u001b[0m \u001b[0msample_weight\u001b[0m\u001b[0;34m,\u001b[0m \u001b[0msolver_type\u001b[0m\u001b[0;34m,\u001b[0m \u001b[0mkernel\u001b[0m\u001b[0;34m,\u001b[0m \u001b[0mrandom_seed\u001b[0m\u001b[0;34m=\u001b[0m\u001b[0mseed\u001b[0m\u001b[0;34m)\u001b[0m\u001b[0;34m\u001b[0m\u001b[0;34m\u001b[0m\u001b[0m\n\u001b[0m\u001b[1;32m    200\u001b[0m         \u001b[0;31m# see comment on the other call to np.iinfo in this file\u001b[0m\u001b[0;34m\u001b[0m\u001b[0;34m\u001b[0m\u001b[0;34m\u001b[0m\u001b[0m\n\u001b[1;32m    201\u001b[0m \u001b[0;34m\u001b[0m\u001b[0m\n",
            "\u001b[0;32m/usr/local/lib/python3.6/dist-packages/sklearn/svm/_base.py\u001b[0m in \u001b[0;36m_dense_fit\u001b[0;34m(self, X, y, sample_weight, solver_type, kernel, random_seed)\u001b[0m\n\u001b[1;32m    256\u001b[0m                 \u001b[0mcache_size\u001b[0m\u001b[0;34m=\u001b[0m\u001b[0mself\u001b[0m\u001b[0;34m.\u001b[0m\u001b[0mcache_size\u001b[0m\u001b[0;34m,\u001b[0m \u001b[0mcoef0\u001b[0m\u001b[0;34m=\u001b[0m\u001b[0mself\u001b[0m\u001b[0;34m.\u001b[0m\u001b[0mcoef0\u001b[0m\u001b[0;34m,\u001b[0m\u001b[0;34m\u001b[0m\u001b[0;34m\u001b[0m\u001b[0m\n\u001b[1;32m    257\u001b[0m                 \u001b[0mgamma\u001b[0m\u001b[0;34m=\u001b[0m\u001b[0mself\u001b[0m\u001b[0;34m.\u001b[0m\u001b[0m_gamma\u001b[0m\u001b[0;34m,\u001b[0m \u001b[0mepsilon\u001b[0m\u001b[0;34m=\u001b[0m\u001b[0mself\u001b[0m\u001b[0;34m.\u001b[0m\u001b[0mepsilon\u001b[0m\u001b[0;34m,\u001b[0m\u001b[0;34m\u001b[0m\u001b[0;34m\u001b[0m\u001b[0m\n\u001b[0;32m--> 258\u001b[0;31m                 max_iter=self.max_iter, random_seed=random_seed)\n\u001b[0m\u001b[1;32m    259\u001b[0m \u001b[0;34m\u001b[0m\u001b[0m\n\u001b[1;32m    260\u001b[0m         \u001b[0mself\u001b[0m\u001b[0;34m.\u001b[0m\u001b[0m_warn_from_fit_status\u001b[0m\u001b[0;34m(\u001b[0m\u001b[0;34m)\u001b[0m\u001b[0;34m\u001b[0m\u001b[0;34m\u001b[0m\u001b[0m\n",
            "\u001b[0;31mKeyboardInterrupt\u001b[0m: "
          ]
        }
      ]
    }
  ]
}